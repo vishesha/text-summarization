{
  "nbformat": 4,
  "nbformat_minor": 0,
  "metadata": {
    "colab": {
      "name": "Welcome To Colaboratory",
      "provenance": [],
      "collapsed_sections": []
    },
    "kernelspec": {
      "display_name": "Python 3",
      "name": "python3"
    },
    "widgets": {
      "application/vnd.jupyter.widget-state+json": {
        "0ccc545f5eb44cbbb6c12cf42498ceac": {
          "model_module": "@jupyter-widgets/controls",
          "model_name": "HBoxModel",
          "state": {
            "_view_name": "HBoxView",
            "_dom_classes": [],
            "_model_name": "HBoxModel",
            "_view_module": "@jupyter-widgets/controls",
            "_model_module_version": "1.5.0",
            "_view_count": null,
            "_view_module_version": "1.5.0",
            "box_style": "",
            "layout": "IPY_MODEL_ed71515701534ffdb648ca3be5afa494",
            "_model_module": "@jupyter-widgets/controls",
            "children": [
              "IPY_MODEL_0a53faf280434e0cbaf1e821b84fe05f",
              "IPY_MODEL_7ff6b0966f3149ab98f2abdd177841aa"
            ]
          }
        },
        "ed71515701534ffdb648ca3be5afa494": {
          "model_module": "@jupyter-widgets/base",
          "model_name": "LayoutModel",
          "state": {
            "_view_name": "LayoutView",
            "grid_template_rows": null,
            "right": null,
            "justify_content": null,
            "_view_module": "@jupyter-widgets/base",
            "overflow": null,
            "_model_module_version": "1.2.0",
            "_view_count": null,
            "flex_flow": null,
            "width": null,
            "min_width": null,
            "border": null,
            "align_items": null,
            "bottom": null,
            "_model_module": "@jupyter-widgets/base",
            "top": null,
            "grid_column": null,
            "overflow_y": null,
            "overflow_x": null,
            "grid_auto_flow": null,
            "grid_area": null,
            "grid_template_columns": null,
            "flex": null,
            "_model_name": "LayoutModel",
            "justify_items": null,
            "grid_row": null,
            "max_height": null,
            "align_content": null,
            "visibility": null,
            "align_self": null,
            "height": null,
            "min_height": null,
            "padding": null,
            "grid_auto_rows": null,
            "grid_gap": null,
            "max_width": null,
            "order": null,
            "_view_module_version": "1.2.0",
            "grid_template_areas": null,
            "object_position": null,
            "object_fit": null,
            "grid_auto_columns": null,
            "margin": null,
            "display": null,
            "left": null
          }
        },
        "0a53faf280434e0cbaf1e821b84fe05f": {
          "model_module": "@jupyter-widgets/controls",
          "model_name": "IntProgressModel",
          "state": {
            "_view_name": "ProgressView",
            "style": "IPY_MODEL_4049b3a18887453399825a7fb46268ab",
            "_dom_classes": [],
            "description": "Downloading: 100%",
            "_model_name": "IntProgressModel",
            "bar_style": "success",
            "max": 385,
            "_view_module": "@jupyter-widgets/controls",
            "_model_module_version": "1.5.0",
            "value": 385,
            "_view_count": null,
            "_view_module_version": "1.5.0",
            "orientation": "horizontal",
            "min": 0,
            "description_tooltip": null,
            "_model_module": "@jupyter-widgets/controls",
            "layout": "IPY_MODEL_7ca975db5c1f4b8d9b86f85ddb16b863"
          }
        },
        "7ff6b0966f3149ab98f2abdd177841aa": {
          "model_module": "@jupyter-widgets/controls",
          "model_name": "HTMLModel",
          "state": {
            "_view_name": "HTMLView",
            "style": "IPY_MODEL_335598ae6ba44fb8ac899900ab8628fe",
            "_dom_classes": [],
            "description": "",
            "_model_name": "HTMLModel",
            "placeholder": "​",
            "_view_module": "@jupyter-widgets/controls",
            "_model_module_version": "1.5.0",
            "value": " 385/385 [00:00&lt;00:00, 1.03kB/s]",
            "_view_count": null,
            "_view_module_version": "1.5.0",
            "description_tooltip": null,
            "_model_module": "@jupyter-widgets/controls",
            "layout": "IPY_MODEL_ed19aced6b744a099e260af8093c6775"
          }
        },
        "4049b3a18887453399825a7fb46268ab": {
          "model_module": "@jupyter-widgets/controls",
          "model_name": "ProgressStyleModel",
          "state": {
            "_view_name": "StyleView",
            "_model_name": "ProgressStyleModel",
            "description_width": "initial",
            "_view_module": "@jupyter-widgets/base",
            "_model_module_version": "1.5.0",
            "_view_count": null,
            "_view_module_version": "1.2.0",
            "bar_color": null,
            "_model_module": "@jupyter-widgets/controls"
          }
        },
        "7ca975db5c1f4b8d9b86f85ddb16b863": {
          "model_module": "@jupyter-widgets/base",
          "model_name": "LayoutModel",
          "state": {
            "_view_name": "LayoutView",
            "grid_template_rows": null,
            "right": null,
            "justify_content": null,
            "_view_module": "@jupyter-widgets/base",
            "overflow": null,
            "_model_module_version": "1.2.0",
            "_view_count": null,
            "flex_flow": null,
            "width": null,
            "min_width": null,
            "border": null,
            "align_items": null,
            "bottom": null,
            "_model_module": "@jupyter-widgets/base",
            "top": null,
            "grid_column": null,
            "overflow_y": null,
            "overflow_x": null,
            "grid_auto_flow": null,
            "grid_area": null,
            "grid_template_columns": null,
            "flex": null,
            "_model_name": "LayoutModel",
            "justify_items": null,
            "grid_row": null,
            "max_height": null,
            "align_content": null,
            "visibility": null,
            "align_self": null,
            "height": null,
            "min_height": null,
            "padding": null,
            "grid_auto_rows": null,
            "grid_gap": null,
            "max_width": null,
            "order": null,
            "_view_module_version": "1.2.0",
            "grid_template_areas": null,
            "object_position": null,
            "object_fit": null,
            "grid_auto_columns": null,
            "margin": null,
            "display": null,
            "left": null
          }
        },
        "335598ae6ba44fb8ac899900ab8628fe": {
          "model_module": "@jupyter-widgets/controls",
          "model_name": "DescriptionStyleModel",
          "state": {
            "_view_name": "StyleView",
            "_model_name": "DescriptionStyleModel",
            "description_width": "",
            "_view_module": "@jupyter-widgets/base",
            "_model_module_version": "1.5.0",
            "_view_count": null,
            "_view_module_version": "1.2.0",
            "_model_module": "@jupyter-widgets/controls"
          }
        },
        "ed19aced6b744a099e260af8093c6775": {
          "model_module": "@jupyter-widgets/base",
          "model_name": "LayoutModel",
          "state": {
            "_view_name": "LayoutView",
            "grid_template_rows": null,
            "right": null,
            "justify_content": null,
            "_view_module": "@jupyter-widgets/base",
            "overflow": null,
            "_model_module_version": "1.2.0",
            "_view_count": null,
            "flex_flow": null,
            "width": null,
            "min_width": null,
            "border": null,
            "align_items": null,
            "bottom": null,
            "_model_module": "@jupyter-widgets/base",
            "top": null,
            "grid_column": null,
            "overflow_y": null,
            "overflow_x": null,
            "grid_auto_flow": null,
            "grid_area": null,
            "grid_template_columns": null,
            "flex": null,
            "_model_name": "LayoutModel",
            "justify_items": null,
            "grid_row": null,
            "max_height": null,
            "align_content": null,
            "visibility": null,
            "align_self": null,
            "height": null,
            "min_height": null,
            "padding": null,
            "grid_auto_rows": null,
            "grid_gap": null,
            "max_width": null,
            "order": null,
            "_view_module_version": "1.2.0",
            "grid_template_areas": null,
            "object_position": null,
            "object_fit": null,
            "grid_auto_columns": null,
            "margin": null,
            "display": null,
            "left": null
          }
        },
        "d1476aac49104efc80ab1131c1830ca8": {
          "model_module": "@jupyter-widgets/controls",
          "model_name": "HBoxModel",
          "state": {
            "_view_name": "HBoxView",
            "_dom_classes": [],
            "_model_name": "HBoxModel",
            "_view_module": "@jupyter-widgets/controls",
            "_model_module_version": "1.5.0",
            "_view_count": null,
            "_view_module_version": "1.5.0",
            "box_style": "",
            "layout": "IPY_MODEL_013de3022d2446919d59fca93b1ef8d8",
            "_model_module": "@jupyter-widgets/controls",
            "children": [
              "IPY_MODEL_66e1d108cb364823ad7bf4fcce327b4c",
              "IPY_MODEL_d94ec85a36b0410482d62ca22199c242"
            ]
          }
        },
        "013de3022d2446919d59fca93b1ef8d8": {
          "model_module": "@jupyter-widgets/base",
          "model_name": "LayoutModel",
          "state": {
            "_view_name": "LayoutView",
            "grid_template_rows": null,
            "right": null,
            "justify_content": null,
            "_view_module": "@jupyter-widgets/base",
            "overflow": null,
            "_model_module_version": "1.2.0",
            "_view_count": null,
            "flex_flow": null,
            "width": null,
            "min_width": null,
            "border": null,
            "align_items": null,
            "bottom": null,
            "_model_module": "@jupyter-widgets/base",
            "top": null,
            "grid_column": null,
            "overflow_y": null,
            "overflow_x": null,
            "grid_auto_flow": null,
            "grid_area": null,
            "grid_template_columns": null,
            "flex": null,
            "_model_name": "LayoutModel",
            "justify_items": null,
            "grid_row": null,
            "max_height": null,
            "align_content": null,
            "visibility": null,
            "align_self": null,
            "height": null,
            "min_height": null,
            "padding": null,
            "grid_auto_rows": null,
            "grid_gap": null,
            "max_width": null,
            "order": null,
            "_view_module_version": "1.2.0",
            "grid_template_areas": null,
            "object_position": null,
            "object_fit": null,
            "grid_auto_columns": null,
            "margin": null,
            "display": null,
            "left": null
          }
        },
        "66e1d108cb364823ad7bf4fcce327b4c": {
          "model_module": "@jupyter-widgets/controls",
          "model_name": "IntProgressModel",
          "state": {
            "_view_name": "ProgressView",
            "style": "IPY_MODEL_4e254366d0d243a1a0c1539b83880206",
            "_dom_classes": [],
            "description": "Downloading: 100%",
            "_model_name": "IntProgressModel",
            "bar_style": "success",
            "max": 227845,
            "_view_module": "@jupyter-widgets/controls",
            "_model_module_version": "1.5.0",
            "value": 227845,
            "_view_count": null,
            "_view_module_version": "1.5.0",
            "orientation": "horizontal",
            "min": 0,
            "description_tooltip": null,
            "_model_module": "@jupyter-widgets/controls",
            "layout": "IPY_MODEL_65259592ed994ef18f27691c2efc3433"
          }
        },
        "d94ec85a36b0410482d62ca22199c242": {
          "model_module": "@jupyter-widgets/controls",
          "model_name": "HTMLModel",
          "state": {
            "_view_name": "HTMLView",
            "style": "IPY_MODEL_3be2fd5998124f918ee00dd65591663c",
            "_dom_classes": [],
            "description": "",
            "_model_name": "HTMLModel",
            "placeholder": "​",
            "_view_module": "@jupyter-widgets/controls",
            "_model_module_version": "1.5.0",
            "value": " 228k/228k [00:00&lt;00:00, 1.99MB/s]",
            "_view_count": null,
            "_view_module_version": "1.5.0",
            "description_tooltip": null,
            "_model_module": "@jupyter-widgets/controls",
            "layout": "IPY_MODEL_3f36cfd601df40e59effab6a036fe8d3"
          }
        },
        "4e254366d0d243a1a0c1539b83880206": {
          "model_module": "@jupyter-widgets/controls",
          "model_name": "ProgressStyleModel",
          "state": {
            "_view_name": "StyleView",
            "_model_name": "ProgressStyleModel",
            "description_width": "initial",
            "_view_module": "@jupyter-widgets/base",
            "_model_module_version": "1.5.0",
            "_view_count": null,
            "_view_module_version": "1.2.0",
            "bar_color": null,
            "_model_module": "@jupyter-widgets/controls"
          }
        },
        "65259592ed994ef18f27691c2efc3433": {
          "model_module": "@jupyter-widgets/base",
          "model_name": "LayoutModel",
          "state": {
            "_view_name": "LayoutView",
            "grid_template_rows": null,
            "right": null,
            "justify_content": null,
            "_view_module": "@jupyter-widgets/base",
            "overflow": null,
            "_model_module_version": "1.2.0",
            "_view_count": null,
            "flex_flow": null,
            "width": null,
            "min_width": null,
            "border": null,
            "align_items": null,
            "bottom": null,
            "_model_module": "@jupyter-widgets/base",
            "top": null,
            "grid_column": null,
            "overflow_y": null,
            "overflow_x": null,
            "grid_auto_flow": null,
            "grid_area": null,
            "grid_template_columns": null,
            "flex": null,
            "_model_name": "LayoutModel",
            "justify_items": null,
            "grid_row": null,
            "max_height": null,
            "align_content": null,
            "visibility": null,
            "align_self": null,
            "height": null,
            "min_height": null,
            "padding": null,
            "grid_auto_rows": null,
            "grid_gap": null,
            "max_width": null,
            "order": null,
            "_view_module_version": "1.2.0",
            "grid_template_areas": null,
            "object_position": null,
            "object_fit": null,
            "grid_auto_columns": null,
            "margin": null,
            "display": null,
            "left": null
          }
        },
        "3be2fd5998124f918ee00dd65591663c": {
          "model_module": "@jupyter-widgets/controls",
          "model_name": "DescriptionStyleModel",
          "state": {
            "_view_name": "StyleView",
            "_model_name": "DescriptionStyleModel",
            "description_width": "",
            "_view_module": "@jupyter-widgets/base",
            "_model_module_version": "1.5.0",
            "_view_count": null,
            "_view_module_version": "1.2.0",
            "_model_module": "@jupyter-widgets/controls"
          }
        },
        "3f36cfd601df40e59effab6a036fe8d3": {
          "model_module": "@jupyter-widgets/base",
          "model_name": "LayoutModel",
          "state": {
            "_view_name": "LayoutView",
            "grid_template_rows": null,
            "right": null,
            "justify_content": null,
            "_view_module": "@jupyter-widgets/base",
            "overflow": null,
            "_model_module_version": "1.2.0",
            "_view_count": null,
            "flex_flow": null,
            "width": null,
            "min_width": null,
            "border": null,
            "align_items": null,
            "bottom": null,
            "_model_module": "@jupyter-widgets/base",
            "top": null,
            "grid_column": null,
            "overflow_y": null,
            "overflow_x": null,
            "grid_auto_flow": null,
            "grid_area": null,
            "grid_template_columns": null,
            "flex": null,
            "_model_name": "LayoutModel",
            "justify_items": null,
            "grid_row": null,
            "max_height": null,
            "align_content": null,
            "visibility": null,
            "align_self": null,
            "height": null,
            "min_height": null,
            "padding": null,
            "grid_auto_rows": null,
            "grid_gap": null,
            "max_width": null,
            "order": null,
            "_view_module_version": "1.2.0",
            "grid_template_areas": null,
            "object_position": null,
            "object_fit": null,
            "grid_auto_columns": null,
            "margin": null,
            "display": null,
            "left": null
          }
        },
        "07bda1f390c24587a34d4dff2b710a94": {
          "model_module": "@jupyter-widgets/controls",
          "model_name": "HBoxModel",
          "state": {
            "_view_name": "HBoxView",
            "_dom_classes": [],
            "_model_name": "HBoxModel",
            "_view_module": "@jupyter-widgets/controls",
            "_model_module_version": "1.5.0",
            "_view_count": null,
            "_view_module_version": "1.5.0",
            "box_style": "",
            "layout": "IPY_MODEL_203b679b950f4a1d86870ab374de8e16",
            "_model_module": "@jupyter-widgets/controls",
            "children": [
              "IPY_MODEL_7e9b66769b744d90a500c46fe515446b",
              "IPY_MODEL_486a077e89b4423ea0831497baf378be"
            ]
          }
        },
        "203b679b950f4a1d86870ab374de8e16": {
          "model_module": "@jupyter-widgets/base",
          "model_name": "LayoutModel",
          "state": {
            "_view_name": "LayoutView",
            "grid_template_rows": null,
            "right": null,
            "justify_content": null,
            "_view_module": "@jupyter-widgets/base",
            "overflow": null,
            "_model_module_version": "1.2.0",
            "_view_count": null,
            "flex_flow": null,
            "width": null,
            "min_width": null,
            "border": null,
            "align_items": null,
            "bottom": null,
            "_model_module": "@jupyter-widgets/base",
            "top": null,
            "grid_column": null,
            "overflow_y": null,
            "overflow_x": null,
            "grid_auto_flow": null,
            "grid_area": null,
            "grid_template_columns": null,
            "flex": null,
            "_model_name": "LayoutModel",
            "justify_items": null,
            "grid_row": null,
            "max_height": null,
            "align_content": null,
            "visibility": null,
            "align_self": null,
            "height": null,
            "min_height": null,
            "padding": null,
            "grid_auto_rows": null,
            "grid_gap": null,
            "max_width": null,
            "order": null,
            "_view_module_version": "1.2.0",
            "grid_template_areas": null,
            "object_position": null,
            "object_fit": null,
            "grid_auto_columns": null,
            "margin": null,
            "display": null,
            "left": null
          }
        },
        "7e9b66769b744d90a500c46fe515446b": {
          "model_module": "@jupyter-widgets/controls",
          "model_name": "IntProgressModel",
          "state": {
            "_view_name": "ProgressView",
            "style": "IPY_MODEL_6103697f260b4e2ebd07344779a6a5fc",
            "_dom_classes": [],
            "description": "Downloading: 100%",
            "_model_name": "IntProgressModel",
            "bar_style": "success",
            "max": 442221694,
            "_view_module": "@jupyter-widgets/controls",
            "_model_module_version": "1.5.0",
            "value": 442221694,
            "_view_count": null,
            "_view_module_version": "1.5.0",
            "orientation": "horizontal",
            "min": 0,
            "description_tooltip": null,
            "_model_module": "@jupyter-widgets/controls",
            "layout": "IPY_MODEL_cbb52aae157340c2a80f81431f65fd36"
          }
        },
        "486a077e89b4423ea0831497baf378be": {
          "model_module": "@jupyter-widgets/controls",
          "model_name": "HTMLModel",
          "state": {
            "_view_name": "HTMLView",
            "style": "IPY_MODEL_f0519373924141a1abaf663073a8569b",
            "_dom_classes": [],
            "description": "",
            "_model_name": "HTMLModel",
            "placeholder": "​",
            "_view_module": "@jupyter-widgets/controls",
            "_model_module_version": "1.5.0",
            "value": " 442M/442M [00:09&lt;00:00, 47.6MB/s]",
            "_view_count": null,
            "_view_module_version": "1.5.0",
            "description_tooltip": null,
            "_model_module": "@jupyter-widgets/controls",
            "layout": "IPY_MODEL_72ddb1fd8b0f4795ae67d3660e5c1e08"
          }
        },
        "6103697f260b4e2ebd07344779a6a5fc": {
          "model_module": "@jupyter-widgets/controls",
          "model_name": "ProgressStyleModel",
          "state": {
            "_view_name": "StyleView",
            "_model_name": "ProgressStyleModel",
            "description_width": "initial",
            "_view_module": "@jupyter-widgets/base",
            "_model_module_version": "1.5.0",
            "_view_count": null,
            "_view_module_version": "1.2.0",
            "bar_color": null,
            "_model_module": "@jupyter-widgets/controls"
          }
        },
        "cbb52aae157340c2a80f81431f65fd36": {
          "model_module": "@jupyter-widgets/base",
          "model_name": "LayoutModel",
          "state": {
            "_view_name": "LayoutView",
            "grid_template_rows": null,
            "right": null,
            "justify_content": null,
            "_view_module": "@jupyter-widgets/base",
            "overflow": null,
            "_model_module_version": "1.2.0",
            "_view_count": null,
            "flex_flow": null,
            "width": null,
            "min_width": null,
            "border": null,
            "align_items": null,
            "bottom": null,
            "_model_module": "@jupyter-widgets/base",
            "top": null,
            "grid_column": null,
            "overflow_y": null,
            "overflow_x": null,
            "grid_auto_flow": null,
            "grid_area": null,
            "grid_template_columns": null,
            "flex": null,
            "_model_name": "LayoutModel",
            "justify_items": null,
            "grid_row": null,
            "max_height": null,
            "align_content": null,
            "visibility": null,
            "align_self": null,
            "height": null,
            "min_height": null,
            "padding": null,
            "grid_auto_rows": null,
            "grid_gap": null,
            "max_width": null,
            "order": null,
            "_view_module_version": "1.2.0",
            "grid_template_areas": null,
            "object_position": null,
            "object_fit": null,
            "grid_auto_columns": null,
            "margin": null,
            "display": null,
            "left": null
          }
        },
        "f0519373924141a1abaf663073a8569b": {
          "model_module": "@jupyter-widgets/controls",
          "model_name": "DescriptionStyleModel",
          "state": {
            "_view_name": "StyleView",
            "_model_name": "DescriptionStyleModel",
            "description_width": "",
            "_view_module": "@jupyter-widgets/base",
            "_model_module_version": "1.5.0",
            "_view_count": null,
            "_view_module_version": "1.2.0",
            "_model_module": "@jupyter-widgets/controls"
          }
        },
        "72ddb1fd8b0f4795ae67d3660e5c1e08": {
          "model_module": "@jupyter-widgets/base",
          "model_name": "LayoutModel",
          "state": {
            "_view_name": "LayoutView",
            "grid_template_rows": null,
            "right": null,
            "justify_content": null,
            "_view_module": "@jupyter-widgets/base",
            "overflow": null,
            "_model_module_version": "1.2.0",
            "_view_count": null,
            "flex_flow": null,
            "width": null,
            "min_width": null,
            "border": null,
            "align_items": null,
            "bottom": null,
            "_model_module": "@jupyter-widgets/base",
            "top": null,
            "grid_column": null,
            "overflow_y": null,
            "overflow_x": null,
            "grid_auto_flow": null,
            "grid_area": null,
            "grid_template_columns": null,
            "flex": null,
            "_model_name": "LayoutModel",
            "justify_items": null,
            "grid_row": null,
            "max_height": null,
            "align_content": null,
            "visibility": null,
            "align_self": null,
            "height": null,
            "min_height": null,
            "padding": null,
            "grid_auto_rows": null,
            "grid_gap": null,
            "max_width": null,
            "order": null,
            "_view_module_version": "1.2.0",
            "grid_template_areas": null,
            "object_position": null,
            "object_fit": null,
            "grid_auto_columns": null,
            "margin": null,
            "display": null,
            "left": null
          }
        }
      }
    }
  },
  "cells": [
    {
      "cell_type": "code",
      "metadata": {
        "id": "wzHh2y5K2n-M",
        "colab_type": "code",
        "colab": {
          "base_uri": "https://localhost:8080/",
          "height": 1000
        },
        "outputId": "39d196c2-339e-4544-9f65-5b9e837c7d1b"
      },
      "source": [
        "pip install bert-extractive-summarizer"
      ],
      "execution_count": 1,
      "outputs": [
        {
          "output_type": "stream",
          "text": [
            "Collecting bert-extractive-summarizer\n",
            "  Downloading https://files.pythonhosted.org/packages/23/1d/71f0a5c7f81b1a87d4428a6a935e9ddeb5e662e41512952e11bd10533cd9/bert-extractive-summarizer-0.4.2.tar.gz\n",
            "Collecting transformers\n",
            "\u001b[?25l  Downloading https://files.pythonhosted.org/packages/a3/78/92cedda05552398352ed9784908b834ee32a0bd071a9b32de287327370b7/transformers-2.8.0-py3-none-any.whl (563kB)\n",
            "\u001b[K     |████████████████████████████████| 573kB 4.1MB/s \n",
            "\u001b[?25hRequirement already satisfied: scikit-learn in /usr/local/lib/python3.6/dist-packages (from bert-extractive-summarizer) (0.22.2.post1)\n",
            "Requirement already satisfied: spacy in /usr/local/lib/python3.6/dist-packages (from bert-extractive-summarizer) (2.2.4)\n",
            "Requirement already satisfied: numpy in /usr/local/lib/python3.6/dist-packages (from transformers->bert-extractive-summarizer) (1.18.3)\n",
            "Requirement already satisfied: dataclasses; python_version < \"3.7\" in /usr/local/lib/python3.6/dist-packages (from transformers->bert-extractive-summarizer) (0.7)\n",
            "Requirement already satisfied: regex!=2019.12.17 in /usr/local/lib/python3.6/dist-packages (from transformers->bert-extractive-summarizer) (2019.12.20)\n",
            "Requirement already satisfied: boto3 in /usr/local/lib/python3.6/dist-packages (from transformers->bert-extractive-summarizer) (1.12.46)\n",
            "Requirement already satisfied: requests in /usr/local/lib/python3.6/dist-packages (from transformers->bert-extractive-summarizer) (2.21.0)\n",
            "Collecting tokenizers==0.5.2\n",
            "\u001b[?25l  Downloading https://files.pythonhosted.org/packages/d1/3f/73c881ea4723e43c1e9acf317cf407fab3a278daab3a69c98dcac511c04f/tokenizers-0.5.2-cp36-cp36m-manylinux1_x86_64.whl (3.7MB)\n",
            "\u001b[K     |████████████████████████████████| 3.7MB 48.4MB/s \n",
            "\u001b[?25hRequirement already satisfied: filelock in /usr/local/lib/python3.6/dist-packages (from transformers->bert-extractive-summarizer) (3.0.12)\n",
            "Collecting sacremoses\n",
            "\u001b[?25l  Downloading https://files.pythonhosted.org/packages/99/50/93509f906a40bffd7d175f97fd75ea328ad9bd91f48f59c4bd084c94a25e/sacremoses-0.0.41.tar.gz (883kB)\n",
            "\u001b[K     |████████████████████████████████| 890kB 48.5MB/s \n",
            "\u001b[?25hCollecting sentencepiece\n",
            "\u001b[?25l  Downloading https://files.pythonhosted.org/packages/98/2c/8df20f3ac6c22ac224fff307ebc102818206c53fc454ecd37d8ac2060df5/sentencepiece-0.1.86-cp36-cp36m-manylinux1_x86_64.whl (1.0MB)\n",
            "\u001b[K     |████████████████████████████████| 1.0MB 42.5MB/s \n",
            "\u001b[?25hRequirement already satisfied: tqdm>=4.27 in /usr/local/lib/python3.6/dist-packages (from transformers->bert-extractive-summarizer) (4.38.0)\n",
            "Requirement already satisfied: joblib>=0.11 in /usr/local/lib/python3.6/dist-packages (from scikit-learn->bert-extractive-summarizer) (0.14.1)\n",
            "Requirement already satisfied: scipy>=0.17.0 in /usr/local/lib/python3.6/dist-packages (from scikit-learn->bert-extractive-summarizer) (1.4.1)\n",
            "Requirement already satisfied: cymem<2.1.0,>=2.0.2 in /usr/local/lib/python3.6/dist-packages (from spacy->bert-extractive-summarizer) (2.0.3)\n",
            "Requirement already satisfied: plac<1.2.0,>=0.9.6 in /usr/local/lib/python3.6/dist-packages (from spacy->bert-extractive-summarizer) (1.1.3)\n",
            "Requirement already satisfied: srsly<1.1.0,>=1.0.2 in /usr/local/lib/python3.6/dist-packages (from spacy->bert-extractive-summarizer) (1.0.2)\n",
            "Requirement already satisfied: catalogue<1.1.0,>=0.0.7 in /usr/local/lib/python3.6/dist-packages (from spacy->bert-extractive-summarizer) (1.0.0)\n",
            "Requirement already satisfied: wasabi<1.1.0,>=0.4.0 in /usr/local/lib/python3.6/dist-packages (from spacy->bert-extractive-summarizer) (0.6.0)\n",
            "Requirement already satisfied: murmurhash<1.1.0,>=0.28.0 in /usr/local/lib/python3.6/dist-packages (from spacy->bert-extractive-summarizer) (1.0.2)\n",
            "Requirement already satisfied: setuptools in /usr/local/lib/python3.6/dist-packages (from spacy->bert-extractive-summarizer) (46.1.3)\n",
            "Requirement already satisfied: thinc==7.4.0 in /usr/local/lib/python3.6/dist-packages (from spacy->bert-extractive-summarizer) (7.4.0)\n",
            "Requirement already satisfied: blis<0.5.0,>=0.4.0 in /usr/local/lib/python3.6/dist-packages (from spacy->bert-extractive-summarizer) (0.4.1)\n",
            "Requirement already satisfied: preshed<3.1.0,>=3.0.2 in /usr/local/lib/python3.6/dist-packages (from spacy->bert-extractive-summarizer) (3.0.2)\n",
            "Requirement already satisfied: jmespath<1.0.0,>=0.7.1 in /usr/local/lib/python3.6/dist-packages (from boto3->transformers->bert-extractive-summarizer) (0.9.5)\n",
            "Requirement already satisfied: botocore<1.16.0,>=1.15.46 in /usr/local/lib/python3.6/dist-packages (from boto3->transformers->bert-extractive-summarizer) (1.15.46)\n",
            "Requirement already satisfied: s3transfer<0.4.0,>=0.3.0 in /usr/local/lib/python3.6/dist-packages (from boto3->transformers->bert-extractive-summarizer) (0.3.3)\n",
            "Requirement already satisfied: chardet<3.1.0,>=3.0.2 in /usr/local/lib/python3.6/dist-packages (from requests->transformers->bert-extractive-summarizer) (3.0.4)\n",
            "Requirement already satisfied: urllib3<1.25,>=1.21.1 in /usr/local/lib/python3.6/dist-packages (from requests->transformers->bert-extractive-summarizer) (1.24.3)\n",
            "Requirement already satisfied: certifi>=2017.4.17 in /usr/local/lib/python3.6/dist-packages (from requests->transformers->bert-extractive-summarizer) (2020.4.5.1)\n",
            "Requirement already satisfied: idna<2.9,>=2.5 in /usr/local/lib/python3.6/dist-packages (from requests->transformers->bert-extractive-summarizer) (2.8)\n",
            "Requirement already satisfied: six in /usr/local/lib/python3.6/dist-packages (from sacremoses->transformers->bert-extractive-summarizer) (1.12.0)\n",
            "Requirement already satisfied: click in /usr/local/lib/python3.6/dist-packages (from sacremoses->transformers->bert-extractive-summarizer) (7.1.1)\n",
            "Requirement already satisfied: importlib-metadata>=0.20; python_version < \"3.8\" in /usr/local/lib/python3.6/dist-packages (from catalogue<1.1.0,>=0.0.7->spacy->bert-extractive-summarizer) (1.6.0)\n",
            "Requirement already satisfied: python-dateutil<3.0.0,>=2.1 in /usr/local/lib/python3.6/dist-packages (from botocore<1.16.0,>=1.15.46->boto3->transformers->bert-extractive-summarizer) (2.8.1)\n",
            "Requirement already satisfied: docutils<0.16,>=0.10 in /usr/local/lib/python3.6/dist-packages (from botocore<1.16.0,>=1.15.46->boto3->transformers->bert-extractive-summarizer) (0.15.2)\n",
            "Requirement already satisfied: zipp>=0.5 in /usr/local/lib/python3.6/dist-packages (from importlib-metadata>=0.20; python_version < \"3.8\"->catalogue<1.1.0,>=0.0.7->spacy->bert-extractive-summarizer) (3.1.0)\n",
            "Building wheels for collected packages: bert-extractive-summarizer, sacremoses\n",
            "  Building wheel for bert-extractive-summarizer (setup.py) ... \u001b[?25l\u001b[?25hdone\n",
            "  Created wheel for bert-extractive-summarizer: filename=bert_extractive_summarizer-0.4.2-cp36-none-any.whl size=13711 sha256=f1d7fa1a3523201a15dc9b97884f74827a6b913557ccd6d74709e2e1ce0eee72\n",
            "  Stored in directory: /root/.cache/pip/wheels/13/bc/30/654eb9e657177a56cba927c5a20b6cd01fb229b1ed2bf9b371\n",
            "  Building wheel for sacremoses (setup.py) ... \u001b[?25l\u001b[?25hdone\n",
            "  Created wheel for sacremoses: filename=sacremoses-0.0.41-cp36-none-any.whl size=893334 sha256=c31d3dd3ff45390aecd8c8d504ce54e981cc46a18b15ee22b9c14168b8321a47\n",
            "  Stored in directory: /root/.cache/pip/wheels/22/5a/d4/b020a81249de7dc63758a34222feaa668dbe8ebfe9170cc9b1\n",
            "Successfully built bert-extractive-summarizer sacremoses\n",
            "Installing collected packages: tokenizers, sacremoses, sentencepiece, transformers, bert-extractive-summarizer\n",
            "Successfully installed bert-extractive-summarizer-0.4.2 sacremoses-0.0.41 sentencepiece-0.1.86 tokenizers-0.5.2 transformers-2.8.0\n"
          ],
          "name": "stdout"
        }
      ]
    },
    {
      "cell_type": "code",
      "metadata": {
        "id": "Igkodq5b2ort",
        "colab_type": "code",
        "colab": {
          "base_uri": "https://localhost:8080/",
          "height": 1000
        },
        "outputId": "0e06a547-17d5-4fd5-ec30-2c71267f236c"
      },
      "source": [
        "!pip install spacy==2.1.3\n",
        "!pip install transformers==2.2.2\n",
        "!pip install neuralcoref\n"
      ],
      "execution_count": 3,
      "outputs": [
        {
          "output_type": "stream",
          "text": [
            "Collecting spacy==2.1.3\n",
            "\u001b[?25l  Downloading https://files.pythonhosted.org/packages/52/da/3a1c54694c2d2f40df82f38a19ae14c6eb24a5a1a0dae87205ebea7a84d8/spacy-2.1.3-cp36-cp36m-manylinux1_x86_64.whl (27.7MB)\n",
            "\u001b[K     |████████████████████████████████| 27.7MB 158kB/s \n",
            "\u001b[?25hCollecting plac<1.0.0,>=0.9.6\n",
            "  Downloading https://files.pythonhosted.org/packages/9e/9b/62c60d2f5bc135d2aa1d8c8a86aaf84edb719a59c7f11a4316259e61a298/plac-0.9.6-py2.py3-none-any.whl\n",
            "Requirement already satisfied: requests<3.0.0,>=2.13.0 in /usr/local/lib/python3.6/dist-packages (from spacy==2.1.3) (2.21.0)\n",
            "Requirement already satisfied: jsonschema<3.0.0,>=2.6.0 in /usr/local/lib/python3.6/dist-packages (from spacy==2.1.3) (2.6.0)\n",
            "Requirement already satisfied: wasabi<1.1.0,>=0.2.0 in /usr/local/lib/python3.6/dist-packages (from spacy==2.1.3) (0.6.0)\n",
            "Requirement already satisfied: murmurhash<1.1.0,>=0.28.0 in /usr/local/lib/python3.6/dist-packages (from spacy==2.1.3) (1.0.2)\n",
            "Requirement already satisfied: cymem<2.1.0,>=2.0.2 in /usr/local/lib/python3.6/dist-packages (from spacy==2.1.3) (2.0.3)\n",
            "Requirement already satisfied: numpy>=1.15.0 in /usr/local/lib/python3.6/dist-packages (from spacy==2.1.3) (1.18.3)\n",
            "Collecting blis<0.3.0,>=0.2.2\n",
            "\u001b[?25l  Downloading https://files.pythonhosted.org/packages/34/46/b1d0bb71d308e820ed30316c5f0a017cb5ef5f4324bcbc7da3cf9d3b075c/blis-0.2.4-cp36-cp36m-manylinux1_x86_64.whl (3.2MB)\n",
            "\u001b[K     |████████████████████████████████| 3.2MB 37.8MB/s \n",
            "\u001b[?25hCollecting thinc<7.1.0,>=7.0.2\n",
            "\u001b[?25l  Downloading https://files.pythonhosted.org/packages/18/a5/9ace20422e7bb1bdcad31832ea85c52a09900cd4a7ce711246bfb92206ba/thinc-7.0.8-cp36-cp36m-manylinux1_x86_64.whl (2.1MB)\n",
            "\u001b[K     |████████████████████████████████| 2.1MB 43.2MB/s \n",
            "\u001b[?25hCollecting preshed<2.1.0,>=2.0.1\n",
            "\u001b[?25l  Downloading https://files.pythonhosted.org/packages/20/93/f222fb957764a283203525ef20e62008675fd0a14ffff8cc1b1490147c63/preshed-2.0.1-cp36-cp36m-manylinux1_x86_64.whl (83kB)\n",
            "\u001b[K     |████████████████████████████████| 92kB 11.8MB/s \n",
            "\u001b[?25hRequirement already satisfied: srsly<1.1.0,>=0.0.5 in /usr/local/lib/python3.6/dist-packages (from spacy==2.1.3) (1.0.2)\n",
            "Requirement already satisfied: urllib3<1.25,>=1.21.1 in /usr/local/lib/python3.6/dist-packages (from requests<3.0.0,>=2.13.0->spacy==2.1.3) (1.24.3)\n",
            "Requirement already satisfied: idna<2.9,>=2.5 in /usr/local/lib/python3.6/dist-packages (from requests<3.0.0,>=2.13.0->spacy==2.1.3) (2.8)\n",
            "Requirement already satisfied: certifi>=2017.4.17 in /usr/local/lib/python3.6/dist-packages (from requests<3.0.0,>=2.13.0->spacy==2.1.3) (2020.4.5.1)\n",
            "Requirement already satisfied: chardet<3.1.0,>=3.0.2 in /usr/local/lib/python3.6/dist-packages (from requests<3.0.0,>=2.13.0->spacy==2.1.3) (3.0.4)\n",
            "Requirement already satisfied: tqdm<5.0.0,>=4.10.0 in /usr/local/lib/python3.6/dist-packages (from thinc<7.1.0,>=7.0.2->spacy==2.1.3) (4.38.0)\n",
            "\u001b[31mERROR: en-core-web-sm 2.2.5 has requirement spacy>=2.2.2, but you'll have spacy 2.1.3 which is incompatible.\u001b[0m\n",
            "Installing collected packages: plac, blis, preshed, thinc, spacy\n",
            "  Found existing installation: plac 1.1.3\n",
            "    Uninstalling plac-1.1.3:\n",
            "      Successfully uninstalled plac-1.1.3\n",
            "  Found existing installation: blis 0.4.1\n",
            "    Uninstalling blis-0.4.1:\n",
            "      Successfully uninstalled blis-0.4.1\n",
            "  Found existing installation: preshed 3.0.2\n",
            "    Uninstalling preshed-3.0.2:\n",
            "      Successfully uninstalled preshed-3.0.2\n",
            "  Found existing installation: thinc 7.4.0\n",
            "    Uninstalling thinc-7.4.0:\n",
            "      Successfully uninstalled thinc-7.4.0\n",
            "  Found existing installation: spacy 2.2.4\n",
            "    Uninstalling spacy-2.2.4:\n",
            "      Successfully uninstalled spacy-2.2.4\n",
            "Successfully installed blis-0.2.4 plac-0.9.6 preshed-2.0.1 spacy-2.1.3 thinc-7.0.8\n",
            "Collecting transformers==2.2.2\n",
            "\u001b[?25l  Downloading https://files.pythonhosted.org/packages/d1/08/4a6768ca1a7a4fa37e5ee08077c5d02b8d83876bd36caa5fc24d98992ac2/transformers-2.2.2-py3-none-any.whl (387kB)\n",
            "\u001b[K     |████████████████████████████████| 389kB 2.6MB/s \n",
            "\u001b[?25hRequirement already satisfied: tqdm in /usr/local/lib/python3.6/dist-packages (from transformers==2.2.2) (4.38.0)\n",
            "Requirement already satisfied: sentencepiece in /usr/local/lib/python3.6/dist-packages (from transformers==2.2.2) (0.1.86)\n",
            "Requirement already satisfied: requests in /usr/local/lib/python3.6/dist-packages (from transformers==2.2.2) (2.21.0)\n",
            "Requirement already satisfied: sacremoses in /usr/local/lib/python3.6/dist-packages (from transformers==2.2.2) (0.0.41)\n",
            "Requirement already satisfied: regex in /usr/local/lib/python3.6/dist-packages (from transformers==2.2.2) (2019.12.20)\n",
            "Requirement already satisfied: boto3 in /usr/local/lib/python3.6/dist-packages (from transformers==2.2.2) (1.12.46)\n",
            "Requirement already satisfied: numpy in /usr/local/lib/python3.6/dist-packages (from transformers==2.2.2) (1.18.3)\n",
            "Requirement already satisfied: certifi>=2017.4.17 in /usr/local/lib/python3.6/dist-packages (from requests->transformers==2.2.2) (2020.4.5.1)\n",
            "Requirement already satisfied: idna<2.9,>=2.5 in /usr/local/lib/python3.6/dist-packages (from requests->transformers==2.2.2) (2.8)\n",
            "Requirement already satisfied: chardet<3.1.0,>=3.0.2 in /usr/local/lib/python3.6/dist-packages (from requests->transformers==2.2.2) (3.0.4)\n",
            "Requirement already satisfied: urllib3<1.25,>=1.21.1 in /usr/local/lib/python3.6/dist-packages (from requests->transformers==2.2.2) (1.24.3)\n",
            "Requirement already satisfied: click in /usr/local/lib/python3.6/dist-packages (from sacremoses->transformers==2.2.2) (7.1.1)\n",
            "Requirement already satisfied: six in /usr/local/lib/python3.6/dist-packages (from sacremoses->transformers==2.2.2) (1.12.0)\n",
            "Requirement already satisfied: joblib in /usr/local/lib/python3.6/dist-packages (from sacremoses->transformers==2.2.2) (0.14.1)\n",
            "Requirement already satisfied: botocore<1.16.0,>=1.15.46 in /usr/local/lib/python3.6/dist-packages (from boto3->transformers==2.2.2) (1.15.46)\n",
            "Requirement already satisfied: s3transfer<0.4.0,>=0.3.0 in /usr/local/lib/python3.6/dist-packages (from boto3->transformers==2.2.2) (0.3.3)\n",
            "Requirement already satisfied: jmespath<1.0.0,>=0.7.1 in /usr/local/lib/python3.6/dist-packages (from boto3->transformers==2.2.2) (0.9.5)\n",
            "Requirement already satisfied: docutils<0.16,>=0.10 in /usr/local/lib/python3.6/dist-packages (from botocore<1.16.0,>=1.15.46->boto3->transformers==2.2.2) (0.15.2)\n",
            "Requirement already satisfied: python-dateutil<3.0.0,>=2.1 in /usr/local/lib/python3.6/dist-packages (from botocore<1.16.0,>=1.15.46->boto3->transformers==2.2.2) (2.8.1)\n",
            "Installing collected packages: transformers\n",
            "  Found existing installation: transformers 2.8.0\n",
            "    Uninstalling transformers-2.8.0:\n",
            "      Successfully uninstalled transformers-2.8.0\n",
            "Successfully installed transformers-2.2.2\n",
            "Collecting neuralcoref\n",
            "\u001b[?25l  Downloading https://files.pythonhosted.org/packages/ea/24/0ec7845a5b73b637aa691ff4d1b9b48f3a0f3369f4002a59ffd7a7462fdb/neuralcoref-4.0-cp36-cp36m-manylinux1_x86_64.whl (287kB)\n",
            "\u001b[K     |████████████████████████████████| 296kB 2.8MB/s \n",
            "\u001b[?25hRequirement already satisfied: spacy>=2.1.0 in /usr/local/lib/python3.6/dist-packages (from neuralcoref) (2.1.3)\n",
            "Requirement already satisfied: requests<3.0.0,>=2.13.0 in /usr/local/lib/python3.6/dist-packages (from neuralcoref) (2.21.0)\n",
            "Requirement already satisfied: numpy>=1.15.0 in /usr/local/lib/python3.6/dist-packages (from neuralcoref) (1.18.3)\n",
            "Requirement already satisfied: boto3 in /usr/local/lib/python3.6/dist-packages (from neuralcoref) (1.12.46)\n",
            "Requirement already satisfied: thinc<7.1.0,>=7.0.2 in /usr/local/lib/python3.6/dist-packages (from spacy>=2.1.0->neuralcoref) (7.0.8)\n",
            "Requirement already satisfied: murmurhash<1.1.0,>=0.28.0 in /usr/local/lib/python3.6/dist-packages (from spacy>=2.1.0->neuralcoref) (1.0.2)\n",
            "Requirement already satisfied: jsonschema<3.0.0,>=2.6.0 in /usr/local/lib/python3.6/dist-packages (from spacy>=2.1.0->neuralcoref) (2.6.0)\n",
            "Requirement already satisfied: srsly<1.1.0,>=0.0.5 in /usr/local/lib/python3.6/dist-packages (from spacy>=2.1.0->neuralcoref) (1.0.2)\n",
            "Requirement already satisfied: cymem<2.1.0,>=2.0.2 in /usr/local/lib/python3.6/dist-packages (from spacy>=2.1.0->neuralcoref) (2.0.3)\n",
            "Requirement already satisfied: preshed<2.1.0,>=2.0.1 in /usr/local/lib/python3.6/dist-packages (from spacy>=2.1.0->neuralcoref) (2.0.1)\n",
            "Requirement already satisfied: plac<1.0.0,>=0.9.6 in /usr/local/lib/python3.6/dist-packages (from spacy>=2.1.0->neuralcoref) (0.9.6)\n",
            "Requirement already satisfied: blis<0.3.0,>=0.2.2 in /usr/local/lib/python3.6/dist-packages (from spacy>=2.1.0->neuralcoref) (0.2.4)\n",
            "Requirement already satisfied: wasabi<1.1.0,>=0.2.0 in /usr/local/lib/python3.6/dist-packages (from spacy>=2.1.0->neuralcoref) (0.6.0)\n",
            "Requirement already satisfied: urllib3<1.25,>=1.21.1 in /usr/local/lib/python3.6/dist-packages (from requests<3.0.0,>=2.13.0->neuralcoref) (1.24.3)\n",
            "Requirement already satisfied: chardet<3.1.0,>=3.0.2 in /usr/local/lib/python3.6/dist-packages (from requests<3.0.0,>=2.13.0->neuralcoref) (3.0.4)\n",
            "Requirement already satisfied: certifi>=2017.4.17 in /usr/local/lib/python3.6/dist-packages (from requests<3.0.0,>=2.13.0->neuralcoref) (2020.4.5.1)\n",
            "Requirement already satisfied: idna<2.9,>=2.5 in /usr/local/lib/python3.6/dist-packages (from requests<3.0.0,>=2.13.0->neuralcoref) (2.8)\n",
            "Requirement already satisfied: s3transfer<0.4.0,>=0.3.0 in /usr/local/lib/python3.6/dist-packages (from boto3->neuralcoref) (0.3.3)\n",
            "Requirement already satisfied: jmespath<1.0.0,>=0.7.1 in /usr/local/lib/python3.6/dist-packages (from boto3->neuralcoref) (0.9.5)\n",
            "Requirement already satisfied: botocore<1.16.0,>=1.15.46 in /usr/local/lib/python3.6/dist-packages (from boto3->neuralcoref) (1.15.46)\n",
            "Requirement already satisfied: tqdm<5.0.0,>=4.10.0 in /usr/local/lib/python3.6/dist-packages (from thinc<7.1.0,>=7.0.2->spacy>=2.1.0->neuralcoref) (4.38.0)\n",
            "Requirement already satisfied: python-dateutil<3.0.0,>=2.1 in /usr/local/lib/python3.6/dist-packages (from botocore<1.16.0,>=1.15.46->boto3->neuralcoref) (2.8.1)\n",
            "Requirement already satisfied: docutils<0.16,>=0.10 in /usr/local/lib/python3.6/dist-packages (from botocore<1.16.0,>=1.15.46->boto3->neuralcoref) (0.15.2)\n",
            "Requirement already satisfied: six>=1.5 in /usr/local/lib/python3.6/dist-packages (from python-dateutil<3.0.0,>=2.1->botocore<1.16.0,>=1.15.46->boto3->neuralcoref) (1.12.0)\n",
            "Installing collected packages: neuralcoref\n",
            "Successfully installed neuralcoref-4.0\n"
          ],
          "name": "stdout"
        }
      ]
    },
    {
      "cell_type": "code",
      "metadata": {
        "id": "whGjeyFq2v6_",
        "colab_type": "code",
        "colab": {
          "base_uri": "https://localhost:8080/",
          "height": 241
        },
        "outputId": "9cc710f5-b3e4-45da-f7e2-0833edee444f"
      },
      "source": [
        "!python -m spacy download en_core_web_md"
      ],
      "execution_count": 5,
      "outputs": [
        {
          "output_type": "stream",
          "text": [
            "Collecting en_core_web_md==2.1.0\n",
            "\u001b[?25l  Downloading https://github.com/explosion/spacy-models/releases/download/en_core_web_md-2.1.0/en_core_web_md-2.1.0.tar.gz (95.4MB)\n",
            "\u001b[K     |████████████████████████████████| 95.4MB 1.1MB/s \n",
            "\u001b[?25hBuilding wheels for collected packages: en-core-web-md\n",
            "  Building wheel for en-core-web-md (setup.py) ... \u001b[?25l\u001b[?25hdone\n",
            "  Created wheel for en-core-web-md: filename=en_core_web_md-2.1.0-cp36-none-any.whl size=97126236 sha256=45f251ae713d40dda1e84de010d070424822c8e9f2da118a27009c179f796fc4\n",
            "  Stored in directory: /tmp/pip-ephem-wheel-cache-bxiwegje/wheels/c1/2c/5f/fd7f3ec336bf97b0809c86264d2831c5dfb00fc2e239d1bb01\n",
            "Successfully built en-core-web-md\n",
            "Installing collected packages: en-core-web-md\n",
            "Successfully installed en-core-web-md-2.1.0\n",
            "\u001b[38;5;2m✔ Download and installation successful\u001b[0m\n",
            "You can now load the model via spacy.load('en_core_web_md')\n"
          ],
          "name": "stdout"
        }
      ]
    },
    {
      "cell_type": "code",
      "metadata": {
        "id": "uMNUEvDT5VgI",
        "colab_type": "code",
        "colab": {}
      },
      "source": [
        "import spacy\n",
        "import en_core_web_md\n",
        "nlp = en_core_web_md.load()"
      ],
      "execution_count": 0,
      "outputs": []
    },
    {
      "cell_type": "code",
      "metadata": {
        "id": "oZLNgH7aBecB",
        "colab_type": "code",
        "colab": {
          "base_uri": "https://localhost:8080/",
          "height": 34
        },
        "outputId": "20acd781-1be9-42c2-b29f-4cb3cae90ea3"
      },
      "source": [
        "import neuralcoref\n",
        "neuralcoref.add_to_pipe(nlp)"
      ],
      "execution_count": 24,
      "outputs": [
        {
          "output_type": "execute_result",
          "data": {
            "text/plain": [
              "<spacy.lang.en.English at 0x7fe32c499b38>"
            ]
          },
          "metadata": {
            "tags": []
          },
          "execution_count": 24
        }
      ]
    },
    {
      "cell_type": "code",
      "metadata": {
        "id": "tWYmemvdCTan",
        "colab_type": "code",
        "colab": {}
      },
      "source": [
        "doc = nlp(u'''ONCE UPON A TIME a girl named Cinderella lived with her stepmother and two stepsisters.  Poor Cinderella had to work hard all day long so the others could rest. It was she who had to wake up each morning when it was still dark and cold to start the fire.  It was she who cooked the meals. It was she who kept the fire going. The poor girl could not stay clean, from all the ashes and cinders by the fire.\n",
        "\n",
        "“What a mess!” her two stepsisters laughed.  And that is why they called her “Cinderella.”\n",
        "\n",
        "One day, big news came to town.  The King and Queen were going to have a ball!  It was time for the Prince to find a bride. All of the young ladies in the land were invited to come.  They were wild with joy! They would wear their most beautiful gown and fix their hair extra nice. Maybe the prince would like them!\n",
        "\n",
        "At Cinderella’s house, she now had extra work to do.  She had to make two brand-new gowns for her step-sisters.  \n",
        "\n",
        "“Faster!” shouted one step-sister.\n",
        "\n",
        "“You call that a dress?” screamed the other.  \n",
        "\n",
        "“Oh, dear!” said Cinderella.  “When can I–“\n",
        "\n",
        "The stepmother marched into the room.  “When can you WHAT?”\n",
        "\n",
        "\n",
        "“Well,” said the girl, “when will I have time to make my own dress for the ball?”\n",
        "\n",
        "“You?” yelled the stepmother.  “Who said YOU were going to the ball?”\n",
        "\n",
        "“What a laugh!” said one step-sister.\n",
        "\n",
        "“Such a mess!” They pointed at Cinderella.  All of them laughed.\n",
        "\n",
        "Cinderella said to herself, “When they look at me, maybe they see a mess.  But I am not that way.  And if I could, I WOULD go to the ball.”\n",
        "\n",
        "Soon the time came for the stepmother and step-sisters to leave for the big party.\n",
        "\n",
        "\n",
        "Their fine carriage came to the door. The stepmother and step-sisters hopped inside.  And they were off.\n",
        "\n",
        "“Good-bye!” called Cinderella.  “Have a good time!” But her stepmother and step-sisters did not turn around to see her.\n",
        "\n",
        "“Ah, me!” said Cinderella sadly.  The carriage rode down the street.  She said aloud, “I wish I could go to the ball, too!”\n",
        "\n",
        "Then – Poof!\n",
        "\n",
        "All of a sudden, in front of her was a fairy.\n",
        "\n",
        "“You called?” said the fairy.\n",
        "\n",
        "“Did I?” said Cinderella.  “Who are you?”\n",
        "\n",
        "“Why, your Fairy Godmother, of course!  I know your wish.  And I have come to grant it.”\n",
        "\n",
        "“But…” said Cinderella, “my wish is impossible.”\n",
        "\n",
        "“Excuse me!” said the Fairy Godmother in a huff.  “Did I not just show up out of thin air?”\n",
        "\n",
        "“Yes, you did,” said Cinderella.\n",
        "\n",
        "“Then let me be the one to say what is possible or not!”\n",
        "\n",
        "“Well, I think you know I want to go to the ball, too.” She looked down at her dirty clothes.\n",
        "\n",
        " “But look at me.”\n",
        "\n",
        "“You do look a bit of a mess, child,” said the Fairy Godmother.\n",
        "\n",
        "“Even if I had something nice to wear,” said the girl, “I would have no way to get there.”\n",
        "\n",
        "“Dear me, all of that is possible,” said the Fairy. With that, she tapped her wand on Cinderella’s head.\n",
        "\n",
        "At once, Cinderella was all clean.  She was dressed in a beautiful blue gown.  Her hair was set up high on her head inside a golden band.\n",
        "\n",
        "“This is wonderful!” said Cinderella.\n",
        "\n",
        "“Who said I was done?” said the Fairy Godmother.  She tapped her wand again. At once, a beautiful carriage came to be, with a driver and four white horses.\n",
        "\n",
        "\n",
        "“Am I dreaming?” said Cinderella, looking around her.\n",
        "\n",
        "“It is as real, as real can be,” said the Fairy Godmother.  “But there is one thing you must know.”\n",
        "\n",
        "“What is that?”\n",
        "\n",
        "“All of this lasts only to midnight.  Tonight, at the stroke of midnight, it will all be over.  Everything will go back to how it was before.”\n",
        "\n",
        "“Then I must be sure to leave the ball before midnight!” said Cinderella.\n",
        "\n",
        "“Good idea,” said the Fairy Godmother.  She stepped back. “My work is done.” And with that, the Fairy Godmother was gone.\n",
        "\n",
        "Cinderella looked around her.  “Did that even happen?”  But there she stood in a fine gown, and with a golden band in her hair.  And there were her driver and four horses before her, waiting.\n",
        "\n",
        "“Coming?” called the driver.\n",
        "\n",
        "She stepped into the carriage.  And they were off.\n",
        "\n",
        "Over at the ball, the Prince did not know what to think.  “Why do you have that sad look on your face?” the Queen said to her son.  “Look around you! You could not ask for finer maidens than these.”\n",
        "\n",
        "“I know, Mother,” said the Prince.  Yet he knew something was wrong. He had met many of the young women.  Yet after he said “hello,” one by one, he could find nothing more to say.\n",
        "\n",
        "“Look!”  Someone pointed to the front door.  “Who is that?”\n",
        "\n",
        "All heads turned.  Who was that lovely maiden stepping down the stairs?  She held her head tall and looked as if she belonged. But no one knew her.\n",
        "\n",
        "“There is something about her,” said the Prince to himself.  “I will ask her to dance.” And he walked over to Cinderella.\n",
        "\n",
        "“Have we met?” said the Prince.\n",
        "\n",
        "“I am pleased to meet you now,” said Cinderella with a bow.\n",
        "\n",
        "“I feel as if I know you,” said the Prince.  “But of course, that is impossible.”\n",
        "\n",
        "“Many things are possible,” said Cinderella, “if you wish them to be true.”\n",
        "\n",
        "The Prince felt a leap in his heart.  He and Cinderella danced. When the song was over, they danced again.  And then they danced again, and yet again. Soon the other maidens at the ball grew jealous.  “Why is he dancing all the time with her?” they said. “How rude!”\n",
        "\n",
        "But all the Prince could see was Cinderella.  They laughed and talked, and they danced some more.  In fact, they danced for so long that Cinderella did not see the clock.\n",
        "\n",
        "“Dong!” said the clock.\n",
        "\n",
        "Cinderella looked up.  \n",
        "\n",
        "“Dong!” went the clock again.  \n",
        "\n",
        "She looked up again.  “Oh, my!” she cried out.  “It is almost midnight!”\n",
        "\n",
        "“Dong!” rung the clock.  \n",
        "\n",
        "“Why does that matter?” said the Prince.\n",
        "\n",
        "“Dong!” called the clock.\n",
        "\n",
        "“I must go!” said Cinderella.  \n",
        "\n",
        "“Dong!” went the clock.\n",
        "\n",
        "“But we just met!” said the Prince.  “Why leave now?”\n",
        "\n",
        "“Dong!” rung the clock.\n",
        "\n",
        "“I must GO!” said Cinderella.  She ran to the steps.\n",
        "\n",
        "“Dong!” said the clock.\n",
        "\n",
        "“I cannot hear you,” said the Prince.  “The clock is too loud!”\n",
        "\n",
        "“Dong!” rung the clock.\n",
        "\n",
        "“Goodbye!” said Cinderella. Up, up the stairs she ran.\n",
        "\n",
        "“Dong!” went the clock.\n",
        "\n",
        "“Please, stop for a moment!” said the Prince.\n",
        "\n",
        "“Oh, dear!” she said as one glass slipper fell off her foot on the stair.  But Cinderella kept running up.\n",
        "\n",
        "“Dong!” said the clock.\n",
        "\n",
        "“Please wait a moment!” said the Prince.  \n",
        "\n",
        "“Dong!” rung the clock.\n",
        "\n",
        "“Goodbye!” Cinderella turned one last time.  Then she rushed out the door.\n",
        "\n",
        "“Dong!”  The clock was quiet. It was midnight.  \n",
        "\n",
        "“Wait!” called the Prince.  He picked up her glass slipper and rushed out the door.  He looked around but could not see her blue dress anywhere.  “This is all I have left from her,” he said, looking down at the glass slipper.  He saw that it was made in a special way, to fit a foot like none other. “Somewhere there is the other glass slipper,” he said.  “And when I find it, I will find her, too.  Then I will ask her to be my bride!”\n",
        "\n",
        "From hut to hut, from house to house, went the Prince.  One young woman after another tried to fit her foot inside the glass slipper.  But none could fit. And so the Prince moved on.\n",
        "\n",
        "At last the Prince came to Cinderella’s house.  \n",
        "\n",
        "“He is coming!” called one step-sister as she looked out the window.\n",
        "\n",
        "“At the door!” screamed the other step-sister.  \n",
        "\n",
        "“Quick!” yelled the stepmother.  “Get ready! One of you must be the one to fit your foot in that slipper.  No matter what!”\n",
        "\n",
        "The Prince knocked.  The stepmother flew open the door.  “Come in!” she said. “I have two lovely daughters for you to see.”\n",
        "\n",
        "The first step-sister tried to place her foot in the glass slipper.  She tried hard, but it just would not fit. Then the second step-sister tried to fit her foot inside.  She tried and tried with all her might, too. But no dice.\n",
        "\n",
        "“Are there no other young women in the house?” said the Prince.\n",
        "\n",
        "“None,” said the stepmother.\n",
        "\n",
        "“Then I must go,” said the Prince.\n",
        "\n",
        "“Maybe there is one more,” said Cinderella, stepping into the room.\n",
        "\n",
        "“I thought you said there were no other young women here,” said the Prince.\n",
        "\n",
        "“None who matter!” said the stepmother in a hiss.\n",
        "\n",
        "“Come here,” said the Prince\n",
        " \n",
        "\n",
        "Cinderella stepped up to him.  The Prince got down on one knee and tried the glass slipper on her foot.  It fit perfectly! Then, from her pocket Cinderella took out something. It was the other glass slipper!\n",
        "\n",
        "“I knew it!” he cried.  “You are the one!”\n",
        "\n",
        "“WHAT?” shouted a step-sister.  \n",
        "\n",
        "“Not HER!” screamed the other step-sister.\n",
        "\n",
        "“This cannot BE!” yelled the stepmother.  \n",
        "\n",
        "But it was too late.  The prince knew that Cinderella was the one.  He looked into her eyes. He did not see the cinders in her hair or the ashes on her face.\n",
        "\n",
        "“I have found you!” he said.\n",
        "\n",
        "“And I have found you,” said Cinderella.\n",
        "\n",
        "And so Cinderella and the Prince were married, and they lived happily ever after.''')"
      ],
      "execution_count": 0,
      "outputs": []
    },
    {
      "cell_type": "code",
      "metadata": {
        "id": "iSBEOVKm2_gh",
        "colab_type": "code",
        "colab": {
          "base_uri": "https://localhost:8080/",
          "height": 54
        },
        "outputId": "90313e27-936e-4a59-e042-1aaaf6dc4c40"
      },
      "source": [
        "from summarizer import Summarizer\n",
        "body='''ONCE UPON A TIME a girl named Cinderella lived with her stepmother and two stepsisters.  Poor Cinderella had to work hard all day long so the others could rest. It was she who had to wake up each morning when it was still dark and cold to start the fire.  It was she who cooked the meals. It was she who kept the fire going. The poor girl could not stay clean, from all the ashes and cinders by the fire.\n",
        "\n",
        "“What a mess!” her two stepsisters laughed.  And that is why they called her “Cinderella.”\n",
        "\n",
        "One day, big news came to town.  The King and Queen were going to have a ball!  It was time for the Prince to find a bride. All of the young ladies in the land were invited to come.  They were wild with joy! They would wear their most beautiful gown and fix their hair extra nice. Maybe the prince would like them!\n",
        "\n",
        "At Cinderella’s house, she now had extra work to do.  She had to make two brand-new gowns for her step-sisters.  \n",
        "\n",
        "“Faster!” shouted one step-sister.\n",
        "\n",
        "“You call that a dress?” screamed the other.  \n",
        "\n",
        "“Oh, dear!” said Cinderella.  “When can I–“\n",
        "\n",
        "The stepmother marched into the room.  “When can you WHAT?”\n",
        "\n",
        "\n",
        "“Well,” said the girl, “when will I have time to make my own dress for the ball?”\n",
        "\n",
        "“You?” yelled the stepmother.  “Who said YOU were going to the ball?”\n",
        "\n",
        "“What a laugh!” said one step-sister.\n",
        "\n",
        "“Such a mess!” They pointed at Cinderella.  All of them laughed.\n",
        "\n",
        "Cinderella said to herself, “When they look at me, maybe they see a mess.  But I am not that way.  And if I could, I WOULD go to the ball.”\n",
        "\n",
        "Soon the time came for the stepmother and step-sisters to leave for the big party.\n",
        "\n",
        "\n",
        "Their fine carriage came to the door. The stepmother and step-sisters hopped inside.  And they were off.\n",
        "\n",
        "“Good-bye!” called Cinderella.  “Have a good time!” But her stepmother and step-sisters did not turn around to see her.\n",
        "\n",
        "“Ah, me!” said Cinderella sadly.  The carriage rode down the street.  She said aloud, “I wish I could go to the ball, too!”\n",
        "\n",
        "Then – Poof!\n",
        "\n",
        "All of a sudden, in front of her was a fairy.\n",
        "\n",
        "“You called?” said the fairy.\n",
        "\n",
        "“Did I?” said Cinderella.  “Who are you?”\n",
        "\n",
        "“Why, your Fairy Godmother, of course!  I know your wish.  And I have come to grant it.”\n",
        "\n",
        "“But…” said Cinderella, “my wish is impossible.”\n",
        "\n",
        "“Excuse me!” said the Fairy Godmother in a huff.  “Did I not just show up out of thin air?”\n",
        "\n",
        "“Yes, you did,” said Cinderella.\n",
        "\n",
        "“Then let me be the one to say what is possible or not!”\n",
        "\n",
        "“Well, I think you know I want to go to the ball, too.” She looked down at her dirty clothes.\n",
        "\n",
        " “But look at me.”\n",
        "\n",
        "“You do look a bit of a mess, child,” said the Fairy Godmother.\n",
        "\n",
        "“Even if I had something nice to wear,” said the girl, “I would have no way to get there.”\n",
        "\n",
        "“Dear me, all of that is possible,” said the Fairy. With that, she tapped her wand on Cinderella’s head.\n",
        "\n",
        "At once, Cinderella was all clean.  She was dressed in a beautiful blue gown.  Her hair was set up high on her head inside a golden band.\n",
        "\n",
        "“This is wonderful!” said Cinderella.\n",
        "\n",
        "“Who said I was done?” said the Fairy Godmother.  She tapped her wand again. At once, a beautiful carriage came to be, with a driver and four white horses.\n",
        "\n",
        "\n",
        "“Am I dreaming?” said Cinderella, looking around her.\n",
        "\n",
        "“It is as real, as real can be,” said the Fairy Godmother.  “But there is one thing you must know.”\n",
        "\n",
        "“What is that?”\n",
        "\n",
        "“All of this lasts only to midnight.  Tonight, at the stroke of midnight, it will all be over.  Everything will go back to how it was before.”\n",
        "\n",
        "“Then I must be sure to leave the ball before midnight!” said Cinderella.\n",
        "\n",
        "“Good idea,” said the Fairy Godmother.  She stepped back. “My work is done.” And with that, the Fairy Godmother was gone.\n",
        "\n",
        "Cinderella looked around her.  “Did that even happen?”  But there she stood in a fine gown, and with a golden band in her hair.  And there were her driver and four horses before her, waiting.\n",
        "\n",
        "“Coming?” called the driver.\n",
        "\n",
        "She stepped into the carriage.  And they were off.\n",
        "\n",
        "Over at the ball, the Prince did not know what to think.  “Why do you have that sad look on your face?” the Queen said to her son.  “Look around you! You could not ask for finer maidens than these.”\n",
        "\n",
        "“I know, Mother,” said the Prince.  Yet he knew something was wrong. He had met many of the young women.  Yet after he said “hello,” one by one, he could find nothing more to say.\n",
        "\n",
        "“Look!”  Someone pointed to the front door.  “Who is that?”\n",
        "\n",
        "All heads turned.  Who was that lovely maiden stepping down the stairs?  She held her head tall and looked as if she belonged. But no one knew her.\n",
        "\n",
        "“There is something about her,” said the Prince to himself.  “I will ask her to dance.” And he walked over to Cinderella.\n",
        "\n",
        "“Have we met?” said the Prince.\n",
        "\n",
        "“I am pleased to meet you now,” said Cinderella with a bow.\n",
        "\n",
        "“I feel as if I know you,” said the Prince.  “But of course, that is impossible.”\n",
        "\n",
        "“Many things are possible,” said Cinderella, “if you wish them to be true.”\n",
        "\n",
        "The Prince felt a leap in his heart.  He and Cinderella danced. When the song was over, they danced again.  And then they danced again, and yet again. Soon the other maidens at the ball grew jealous.  “Why is he dancing all the time with her?” they said. “How rude!”\n",
        "\n",
        "But all the Prince could see was Cinderella.  They laughed and talked, and they danced some more.  In fact, they danced for so long that Cinderella did not see the clock.\n",
        "\n",
        "“Dong!” said the clock.\n",
        "\n",
        "Cinderella looked up.  \n",
        "\n",
        "“Dong!” went the clock again.  \n",
        "\n",
        "She looked up again.  “Oh, my!” she cried out.  “It is almost midnight!”\n",
        "\n",
        "“Dong!” rung the clock.  \n",
        "\n",
        "“Why does that matter?” said the Prince.\n",
        "\n",
        "“Dong!” called the clock.\n",
        "\n",
        "“I must go!” said Cinderella.  \n",
        "\n",
        "“Dong!” went the clock.\n",
        "\n",
        "“But we just met!” said the Prince.  “Why leave now?”\n",
        "\n",
        "“Dong!” rung the clock.\n",
        "\n",
        "“I must GO!” said Cinderella.  She ran to the steps.\n",
        "\n",
        "“Dong!” said the clock.\n",
        "\n",
        "“I cannot hear you,” said the Prince.  “The clock is too loud!”\n",
        "\n",
        "“Dong!” rung the clock.\n",
        "\n",
        "“Goodbye!” said Cinderella. Up, up the stairs she ran.\n",
        "\n",
        "“Dong!” went the clock.\n",
        "\n",
        "“Please, stop for a moment!” said the Prince.\n",
        "\n",
        "“Oh, dear!” she said as one glass slipper fell off her foot on the stair.  But Cinderella kept running up.\n",
        "\n",
        "“Dong!” said the clock.\n",
        "\n",
        "“Please wait a moment!” said the Prince.  \n",
        "\n",
        "“Dong!” rung the clock.\n",
        "\n",
        "“Goodbye!” Cinderella turned one last time.  Then she rushed out the door.\n",
        "\n",
        "“Dong!”  The clock was quiet. It was midnight.  \n",
        "\n",
        "“Wait!” called the Prince.  He picked up her glass slipper and rushed out the door.  He looked around but could not see her blue dress anywhere.  “This is all I have left from her,” he said, looking down at the glass slipper.  He saw that it was made in a special way, to fit a foot like none other. “Somewhere there is the other glass slipper,” he said.  “And when I find it, I will find her, too.  Then I will ask her to be my bride!”\n",
        "\n",
        "From hut to hut, from house to house, went the Prince.  One young woman after another tried to fit her foot inside the glass slipper.  But none could fit. And so the Prince moved on.\n",
        "\n",
        "At last the Prince came to Cinderella’s house.  \n",
        "\n",
        "“He is coming!” called one step-sister as she looked out the window.\n",
        "\n",
        "“At the door!” screamed the other step-sister.  \n",
        "\n",
        "“Quick!” yelled the stepmother.  “Get ready! One of you must be the one to fit your foot in that slipper.  No matter what!”\n",
        "\n",
        "The Prince knocked.  The stepmother flew open the door.  “Come in!” she said. “I have two lovely daughters for you to see.”\n",
        "\n",
        "The first step-sister tried to place her foot in the glass slipper.  She tried hard, but it just would not fit. Then the second step-sister tried to fit her foot inside.  She tried and tried with all her might, too. But no dice.\n",
        "\n",
        "“Are there no other young women in the house?” said the Prince.\n",
        "\n",
        "“None,” said the stepmother.\n",
        "\n",
        "“Then I must go,” said the Prince.\n",
        "\n",
        "“Maybe there is one more,” said Cinderella, stepping into the room.\n",
        "\n",
        "“I thought you said there were no other young women here,” said the Prince.\n",
        "\n",
        "“None who matter!” said the stepmother in a hiss.\n",
        "\n",
        "“Come here,” said the Prince\n",
        " \n",
        "\n",
        "Cinderella stepped up to him.  The Prince got down on one knee and tried the glass slipper on her foot.  It fit perfectly! Then, from her pocket Cinderella took out something. It was the other glass slipper!\n",
        "\n",
        "“I knew it!” he cried.  “You are the one!”\n",
        "\n",
        "“WHAT?” shouted a step-sister.  \n",
        "\n",
        "“Not HER!” screamed the other step-sister.\n",
        "\n",
        "“This cannot BE!” yelled the stepmother.  \n",
        "\n",
        "But it was too late.  The prince knew that Cinderella was the one.  He looked into her eyes. He did not see the cinders in her hair or the ashes on her face.\n",
        "\n",
        "“I have found you!” he said.\n",
        "\n",
        "“And I have found you,” said Cinderella.\n",
        "\n",
        "And so Cinderella and the Prince were married, and they lived happily ever after.'''\n",
        "model = Summarizer()\n",
        "model(body)"
      ],
      "execution_count": 25,
      "outputs": [
        {
          "output_type": "execute_result",
          "data": {
            "text/plain": [
              "'ONCE UPON A TIME a girl named Cinderella lived with her stepmother and two stepsisters. It was she who had to wake up each morning when it was still dark and cold to start the fire. It was time for the Prince to find a bride. They would wear their most beautiful gown and fix their hair extra nice. At Cinderella’s house, she now had extra work to do. “When can I–“\\n\\nThe stepmother marched into the room. “Well,” said the girl, “when will I have time to make my own dress for the ball?” “Then let me be the one to say what is possible or not!” With that, she tapped her wand on Cinderella’s head. She was dressed in a beautiful blue gown. At once, a beautiful carriage came to be, with a driver and four white horses. And then they danced again, and yet again. One young woman after another tried to fit her foot inside the glass slipper. Then the second step-sister tried to fit her foot inside. She tried and tried with all her might, too. “Maybe there is one more,” said Cinderella, stepping into the room.'"
            ]
          },
          "metadata": {
            "tags": []
          },
          "execution_count": 25
        }
      ]
    },
    {
      "cell_type": "code",
      "metadata": {
        "id": "dTb0OhZtCw7e",
        "colab_type": "code",
        "colab": {
          "base_uri": "https://localhost:8080/",
          "height": 54
        },
        "outputId": "e88f2a02-f48a-4e87-ffc5-495ba4a1ceed"
      },
      "source": [
        "doc._.coref_resolved"
      ],
      "execution_count": 27,
      "outputs": [
        {
          "output_type": "execute_result",
          "data": {
            "text/plain": [
              "'ONCE UPON A TIME Poor Cinderella lived with Poor Cinderella stepmother and two stepsisters.  Poor Cinderella had to work hard all day long so the others could rest. It was Poor Cinderella who had to wake up each morning when it was still dark and cold to start the fire.  It was Poor Cinderella who cooked the meals. It was Poor Cinderella who kept the fire going. Poor Cinderella could not stay clean, from all the ashes and cinders by the fire.\\n\\n“What a mess!” Poor Cinderella two stepsisters laughed.  And that is why they called Poor Cinderella Poor Cinderella.”\\n\\nOne day, big news came to town.  The King and Queen were going to have a ball!  It was time for the Prince to find a bride. All of the young ladies in the land were invited to come.  All of the young ladies in the land were wild with joy! All of the young ladies in the land would wear All of the young ladies in the land most beautiful gown and fix All of the young ladies in the land hair extra nice. Maybe the Prince would like All of the young ladies in the land!\\n\\nAt Cinderella’s house, the Prince now had extra work to do.  the Prince had to make two brand-new gowns for the Prince step-sisters.  \\n\\n“Faster!” shouted one step-sister.\\n\\n“You call that a dress?” screamed the other.  \\n\\n“Oh, dear!” said Cinderella.  “When can I–“\\n\\nThe stepmother marched into the room.  “When can you WHAT?”\\n\\n\\n“Well,” said the Prince, “when will I have time to make my own dress for the ball?”\\n\\n“You?” yelled The stepmother.  “Who said YOU were going to the ball?”\\n\\n“What a laugh!” said one step-sister.\\n\\n“Such a mess!” They pointed at Cinderella.  All of They laughed.\\n\\nCinderella said to Cinderella, “When They look at Cinderella, maybe They see a mess.  But I am not that way.  And if I could, I WOULD go to the ball.”\\n\\nSoon the time came for the stepmother and step-sisters to leave for the big party.\\n\\n\\nthe stepmother and step-sisters to leave for the big party fine carriage came to the door. the stepmother and step-sisters hopped inside.  And the stepmother and step-sisters were off.\\n\\n“Good-bye!” called Cinderella.  “Have a good time!” But the stepmother and step-sisters did not turn around to see her.\\n\\n“Ah, me!” said Cinderella sadly.  Their fine carriage rode down the street.  her said aloud, “I wish I could go to the ball, too!”\\n\\nThen – Poof!\\n\\nAll of a sudden, in front of her was a fairy.\\n\\n“You called?” said a fairy.\\n\\n“Did I?” said Cinderella.  “Who are you?”\\n\\n“Why, your Fairy Godmother, of course!  I know your wish.  And I have come to grant your wish.”\\n\\n“But…” said Cinderella, “your wish is impossible.”\\n\\n“Excuse me!” said the Fairy Godmother in a huff.  “Did I not just show up out of thin air?”\\n\\n“Yes, you did,” said Cinderella.\\n\\n“Then let me be the one to say what is possible or not!”\\n\\n“Well, I think you know I want to go to the ball, too.” her looked down at her dirty clothes.\\n\\n “But look at the Fairy Godmother in a huff.”\\n\\n“You do look a bit of a mess, child,” said the Fairy Godmother in a huff.\\n\\n“Even if I had something nice to wear,” said her, “I would have no way to get there.”\\n\\n“Dear me, all of that is possible,” said a fairy. With that, her tapped her wand on Cinderella’s head.\\n\\nAt once, Cinderella was all clean.  her was dressed in a beautiful blue gown.  her hair was set up high on her head inside a golden band.\\n\\n“This is wonderful!” said Cinderella.\\n\\n“Who said I was done?” said the Fairy Godmother in a huff.  her tapped her wand again. At once, a beautiful carriage came to be, with a driver and four white horses.\\n\\n\\n“Am I dreaming?” said Cinderella, looking around her.\\n\\n“It is as real, as real can be,” said the Fairy Godmother in a huff.  “But there is one thing you must know.”\\n\\n“What is that?”\\n\\n“All of this lasts only to midnight.  Tonight, at the stroke of midnight, it will all be over.  Everything will go back to how it was before.”\\n\\n“Then I must be sure to leave the ball before midnight!” said Cinderella.\\n\\n“Good idea,” said the Fairy Godmother in a huff.  the Fairy Godmother in a huff stepped back. “My work is done.” And with that, the Fairy Godmother in a huff was gone.\\n\\nCinderella looked around the Fairy Godmother in a huff.  “Did that even happen?”  But there the Fairy Godmother in a huff stood in a fine gown, and with a golden band in the Fairy Godmother in a huff hair.  And there were the Fairy Godmother in a huff driver and four horses before the Fairy Godmother in a huff, waiting.\\n\\n“Coming?” called the driver.\\n\\nthe Fairy Godmother in a huff stepped into a beautiful carriage.  And they were off.\\n\\nOver at the ball, the Prince did not know what to think.  “Why do you have that sad look on your face?” the Fairy Godmother in a huff said to the Fairy Godmother in a huff son.  “Look around her son! You could not ask for finer maidens than these.”\\n\\n“I know, the Fairy Godmother in a huff,” said the Prince.  Yet the Prince knew something was wrong. the Prince had met many of the young women.  Yet after the Prince said “hello,” one by one, the Prince could find nothing more to say.\\n\\n“Look!”  Someone pointed to the front door.  “Who is that?”\\n\\nAll heads turned.  Who was that lovely maiden stepping down the stairs?  the Fairy Godmother in a huff held the Fairy Godmother in a huff head tall and looked as if the Fairy Godmother in a huff belonged. But no one knew the Fairy Godmother in a huff.\\n\\n“There is something about the Fairy Godmother in a huff,” said the Prince to the Prince.  “I will ask the Fairy Godmother in a huff to dance.” And the Prince walked over to Cinderella.\\n\\n“Have we met?” said the Prince.\\n\\n“I am pleased to meet you now,” said Cinderella with a bow.\\n\\n“I feel as if I know you,” said the Prince.  “But of course, that is impossible.”\\n\\n“Many things are possible,” said Cinderella, “if you wish Many things to be true.”\\n\\nthe Prince felt a leap in the Prince heart.  the Prince and Cinderella danced. When the song was over, He and Cinderella danced again.  And then He and Cinderella danced again, and yet again. Soon the other maidens at the ball grew jealous.  “Why is the Prince dancing all the time with the Fairy Godmother in a huff?” He and Cinderella said. “How rude!”\\n\\nBut the Prince could see was Cinderella.  He and Cinderella laughed and talked, and He and Cinderella danced some more.  In fact, He and Cinderella danced for so long that Cinderella did not see the clock.\\n\\n“Dong!” said the clock.\\n\\nCinderella looked up.  \\n\\n“Dong!” went the clock again.  \\n\\nCinderella looked up again.  “Oh, my!” Cinderella cried out.  “It is almost midnight!”\\n\\n“Dong!” rung the clock.  \\n\\n“Why does that matter?” said the Prince.\\n\\n“Dong!” called the clock.\\n\\n“I must go!” said Cinderella.  \\n\\n“Dong!” went the clock.\\n\\n“But we just met!” said the Prince.  “Why leave now?”\\n\\n“Dong!” rung the clock.\\n\\n“I must GO!” said Cinderella.  Cinderella ran to the steps.\\n\\n“Dong!” said the clock.\\n\\n“I cannot hear you,” said the Prince.  “the clock is too loud!”\\n\\n“Dong!” rung the clock.\\n\\n“Goodbye!” said Cinderella. Up, up the stairs Cinderella ran.\\n\\n“Dong!” went the clock.\\n\\n“Please, stop for a moment!” said the Prince.\\n\\n“Oh, dear!” Cinderella said as one glass slipper fell off Cinderella foot on the stair.  But Cinderella kept running up.\\n\\n“Dong!” said the clock.\\n\\n“Please wait a moment!” said the Prince.  \\n\\n“Dong!” rung the clock.\\n\\n“Goodbye!” Cinderella turned one last time.  Then Cinderella rushed out the door.\\n\\n“Dong!”  the clock was quiet. the clock was midnight.  \\n\\n“Wait!” called the Prince.  the Prince picked up one glass slipper and rushed out the door.  the Prince looked around but could not see Cinderella blue dress anywhere.  “This is all I have left from Cinderella,” the Prince said, looking down at one glass slipper.  the Prince saw that it was made in a special way, to fit a foot like none other. “Somewhere there is one glass slipper,” the Prince said.  “And when I find it, I will find Cinderella, too.  Then I will ask Cinderella to be my bride!”\\n\\nFrom hut to hut, from house to house, went the Prince.  One young woman after another tried to fit One young woman after another foot inside one glass slipper.  But none could fit. And so the Prince moved on.\\n\\nAt last the Prince came to Cinderella’s house.  \\n\\n“the Prince is coming!” called one step-sister as one step-sister looked out the window.\\n\\n“At the door!” screamed one step-sister.  \\n\\n“Quick!” yelled the stepmother.  “Get ready! One of you must be the one to fit her foot in one glass slipper.  No matter what!”\\n\\nthe Prince knocked.  the stepmother flew open the door.  “Come in!” the stepmother said. “I have two lovely daughters for you to see.”\\n\\none step-sister tried to place one step-sister in one glass slipper.  one step-sister tried hard, but it just would not fit. Then one step-sister tried to fit one step-sister inside.  one step-sister tried and tried with all one step-sister might, too. But no dice.\\n\\n“Are there no other young women in Cinderella’s house?” said the Prince.\\n\\n“None,” said the stepmother.\\n\\n“Then I must go,” said the Prince.\\n\\n“Maybe there is one more,” said Cinderella, stepping into the room.\\n\\n“I thought you said there were no other young women here,” said the Prince.\\n\\n“None who matter!” said the stepmother.\\n\\n“Come here,” said Cinderella stepped up to Cinderella.  the Prince got down on one knee and tried one glass slipper on her foot.  It fit perfectly! Then, from one step-sister pocket Cinderella took out something. It was the other glass slipper!\\n\\n“I knew It!” the Prince cried.  “You are the one!”\\n\\n“WHAT?” shouted a step-sister.  \\n\\n“Not the Prince!” screamed one step-sister.\\n\\n“This cannot BE!” yelled the stepmother.  \\n\\nBut it was too late.  the Prince knew that Cinderella was the one.  the Prince looked into the Prince eyes. the Prince did not see the cinders in the Prince hair or the ashes on the Prince face.\\n\\n“I have found you!” the Prince said.\\n\\n“And I have found you,” said Cinderella.\\n\\nAnd so Cinderella and the Prince were married, and Cinderella and the Prince lived happily ever after.'"
            ]
          },
          "metadata": {
            "tags": []
          },
          "execution_count": 27
        }
      ]
    },
    {
      "cell_type": "code",
      "metadata": {
        "id": "9XEobhX7C8vw",
        "colab_type": "code",
        "colab": {}
      },
      "source": [
        "body = ''.join(doc._.coref_resolved)"
      ],
      "execution_count": 0,
      "outputs": []
    },
    {
      "cell_type": "code",
      "metadata": {
        "id": "GdT1p1G0DP5f",
        "colab_type": "code",
        "colab": {
          "base_uri": "https://localhost:8080/",
          "height": 54
        },
        "outputId": "26c835d9-7cdb-4df4-8421-f96209caa4e9"
      },
      "source": [
        "body"
      ],
      "execution_count": 29,
      "outputs": [
        {
          "output_type": "execute_result",
          "data": {
            "text/plain": [
              "'ONCE UPON A TIME Poor Cinderella lived with Poor Cinderella stepmother and two stepsisters.  Poor Cinderella had to work hard all day long so the others could rest. It was Poor Cinderella who had to wake up each morning when it was still dark and cold to start the fire.  It was Poor Cinderella who cooked the meals. It was Poor Cinderella who kept the fire going. Poor Cinderella could not stay clean, from all the ashes and cinders by the fire.\\n\\n“What a mess!” Poor Cinderella two stepsisters laughed.  And that is why they called Poor Cinderella Poor Cinderella.”\\n\\nOne day, big news came to town.  The King and Queen were going to have a ball!  It was time for the Prince to find a bride. All of the young ladies in the land were invited to come.  All of the young ladies in the land were wild with joy! All of the young ladies in the land would wear All of the young ladies in the land most beautiful gown and fix All of the young ladies in the land hair extra nice. Maybe the Prince would like All of the young ladies in the land!\\n\\nAt Cinderella’s house, the Prince now had extra work to do.  the Prince had to make two brand-new gowns for the Prince step-sisters.  \\n\\n“Faster!” shouted one step-sister.\\n\\n“You call that a dress?” screamed the other.  \\n\\n“Oh, dear!” said Cinderella.  “When can I–“\\n\\nThe stepmother marched into the room.  “When can you WHAT?”\\n\\n\\n“Well,” said the Prince, “when will I have time to make my own dress for the ball?”\\n\\n“You?” yelled The stepmother.  “Who said YOU were going to the ball?”\\n\\n“What a laugh!” said one step-sister.\\n\\n“Such a mess!” They pointed at Cinderella.  All of They laughed.\\n\\nCinderella said to Cinderella, “When They look at Cinderella, maybe They see a mess.  But I am not that way.  And if I could, I WOULD go to the ball.”\\n\\nSoon the time came for the stepmother and step-sisters to leave for the big party.\\n\\n\\nthe stepmother and step-sisters to leave for the big party fine carriage came to the door. the stepmother and step-sisters hopped inside.  And the stepmother and step-sisters were off.\\n\\n“Good-bye!” called Cinderella.  “Have a good time!” But the stepmother and step-sisters did not turn around to see her.\\n\\n“Ah, me!” said Cinderella sadly.  Their fine carriage rode down the street.  her said aloud, “I wish I could go to the ball, too!”\\n\\nThen – Poof!\\n\\nAll of a sudden, in front of her was a fairy.\\n\\n“You called?” said a fairy.\\n\\n“Did I?” said Cinderella.  “Who are you?”\\n\\n“Why, your Fairy Godmother, of course!  I know your wish.  And I have come to grant your wish.”\\n\\n“But…” said Cinderella, “your wish is impossible.”\\n\\n“Excuse me!” said the Fairy Godmother in a huff.  “Did I not just show up out of thin air?”\\n\\n“Yes, you did,” said Cinderella.\\n\\n“Then let me be the one to say what is possible or not!”\\n\\n“Well, I think you know I want to go to the ball, too.” her looked down at her dirty clothes.\\n\\n “But look at the Fairy Godmother in a huff.”\\n\\n“You do look a bit of a mess, child,” said the Fairy Godmother in a huff.\\n\\n“Even if I had something nice to wear,” said her, “I would have no way to get there.”\\n\\n“Dear me, all of that is possible,” said a fairy. With that, her tapped her wand on Cinderella’s head.\\n\\nAt once, Cinderella was all clean.  her was dressed in a beautiful blue gown.  her hair was set up high on her head inside a golden band.\\n\\n“This is wonderful!” said Cinderella.\\n\\n“Who said I was done?” said the Fairy Godmother in a huff.  her tapped her wand again. At once, a beautiful carriage came to be, with a driver and four white horses.\\n\\n\\n“Am I dreaming?” said Cinderella, looking around her.\\n\\n“It is as real, as real can be,” said the Fairy Godmother in a huff.  “But there is one thing you must know.”\\n\\n“What is that?”\\n\\n“All of this lasts only to midnight.  Tonight, at the stroke of midnight, it will all be over.  Everything will go back to how it was before.”\\n\\n“Then I must be sure to leave the ball before midnight!” said Cinderella.\\n\\n“Good idea,” said the Fairy Godmother in a huff.  the Fairy Godmother in a huff stepped back. “My work is done.” And with that, the Fairy Godmother in a huff was gone.\\n\\nCinderella looked around the Fairy Godmother in a huff.  “Did that even happen?”  But there the Fairy Godmother in a huff stood in a fine gown, and with a golden band in the Fairy Godmother in a huff hair.  And there were the Fairy Godmother in a huff driver and four horses before the Fairy Godmother in a huff, waiting.\\n\\n“Coming?” called the driver.\\n\\nthe Fairy Godmother in a huff stepped into a beautiful carriage.  And they were off.\\n\\nOver at the ball, the Prince did not know what to think.  “Why do you have that sad look on your face?” the Fairy Godmother in a huff said to the Fairy Godmother in a huff son.  “Look around her son! You could not ask for finer maidens than these.”\\n\\n“I know, the Fairy Godmother in a huff,” said the Prince.  Yet the Prince knew something was wrong. the Prince had met many of the young women.  Yet after the Prince said “hello,” one by one, the Prince could find nothing more to say.\\n\\n“Look!”  Someone pointed to the front door.  “Who is that?”\\n\\nAll heads turned.  Who was that lovely maiden stepping down the stairs?  the Fairy Godmother in a huff held the Fairy Godmother in a huff head tall and looked as if the Fairy Godmother in a huff belonged. But no one knew the Fairy Godmother in a huff.\\n\\n“There is something about the Fairy Godmother in a huff,” said the Prince to the Prince.  “I will ask the Fairy Godmother in a huff to dance.” And the Prince walked over to Cinderella.\\n\\n“Have we met?” said the Prince.\\n\\n“I am pleased to meet you now,” said Cinderella with a bow.\\n\\n“I feel as if I know you,” said the Prince.  “But of course, that is impossible.”\\n\\n“Many things are possible,” said Cinderella, “if you wish Many things to be true.”\\n\\nthe Prince felt a leap in the Prince heart.  the Prince and Cinderella danced. When the song was over, He and Cinderella danced again.  And then He and Cinderella danced again, and yet again. Soon the other maidens at the ball grew jealous.  “Why is the Prince dancing all the time with the Fairy Godmother in a huff?” He and Cinderella said. “How rude!”\\n\\nBut the Prince could see was Cinderella.  He and Cinderella laughed and talked, and He and Cinderella danced some more.  In fact, He and Cinderella danced for so long that Cinderella did not see the clock.\\n\\n“Dong!” said the clock.\\n\\nCinderella looked up.  \\n\\n“Dong!” went the clock again.  \\n\\nCinderella looked up again.  “Oh, my!” Cinderella cried out.  “It is almost midnight!”\\n\\n“Dong!” rung the clock.  \\n\\n“Why does that matter?” said the Prince.\\n\\n“Dong!” called the clock.\\n\\n“I must go!” said Cinderella.  \\n\\n“Dong!” went the clock.\\n\\n“But we just met!” said the Prince.  “Why leave now?”\\n\\n“Dong!” rung the clock.\\n\\n“I must GO!” said Cinderella.  Cinderella ran to the steps.\\n\\n“Dong!” said the clock.\\n\\n“I cannot hear you,” said the Prince.  “the clock is too loud!”\\n\\n“Dong!” rung the clock.\\n\\n“Goodbye!” said Cinderella. Up, up the stairs Cinderella ran.\\n\\n“Dong!” went the clock.\\n\\n“Please, stop for a moment!” said the Prince.\\n\\n“Oh, dear!” Cinderella said as one glass slipper fell off Cinderella foot on the stair.  But Cinderella kept running up.\\n\\n“Dong!” said the clock.\\n\\n“Please wait a moment!” said the Prince.  \\n\\n“Dong!” rung the clock.\\n\\n“Goodbye!” Cinderella turned one last time.  Then Cinderella rushed out the door.\\n\\n“Dong!”  the clock was quiet. the clock was midnight.  \\n\\n“Wait!” called the Prince.  the Prince picked up one glass slipper and rushed out the door.  the Prince looked around but could not see Cinderella blue dress anywhere.  “This is all I have left from Cinderella,” the Prince said, looking down at one glass slipper.  the Prince saw that it was made in a special way, to fit a foot like none other. “Somewhere there is one glass slipper,” the Prince said.  “And when I find it, I will find Cinderella, too.  Then I will ask Cinderella to be my bride!”\\n\\nFrom hut to hut, from house to house, went the Prince.  One young woman after another tried to fit One young woman after another foot inside one glass slipper.  But none could fit. And so the Prince moved on.\\n\\nAt last the Prince came to Cinderella’s house.  \\n\\n“the Prince is coming!” called one step-sister as one step-sister looked out the window.\\n\\n“At the door!” screamed one step-sister.  \\n\\n“Quick!” yelled the stepmother.  “Get ready! One of you must be the one to fit her foot in one glass slipper.  No matter what!”\\n\\nthe Prince knocked.  the stepmother flew open the door.  “Come in!” the stepmother said. “I have two lovely daughters for you to see.”\\n\\none step-sister tried to place one step-sister in one glass slipper.  one step-sister tried hard, but it just would not fit. Then one step-sister tried to fit one step-sister inside.  one step-sister tried and tried with all one step-sister might, too. But no dice.\\n\\n“Are there no other young women in Cinderella’s house?” said the Prince.\\n\\n“None,” said the stepmother.\\n\\n“Then I must go,” said the Prince.\\n\\n“Maybe there is one more,” said Cinderella, stepping into the room.\\n\\n“I thought you said there were no other young women here,” said the Prince.\\n\\n“None who matter!” said the stepmother.\\n\\n“Come here,” said Cinderella stepped up to Cinderella.  the Prince got down on one knee and tried one glass slipper on her foot.  It fit perfectly! Then, from one step-sister pocket Cinderella took out something. It was the other glass slipper!\\n\\n“I knew It!” the Prince cried.  “You are the one!”\\n\\n“WHAT?” shouted a step-sister.  \\n\\n“Not the Prince!” screamed one step-sister.\\n\\n“This cannot BE!” yelled the stepmother.  \\n\\nBut it was too late.  the Prince knew that Cinderella was the one.  the Prince looked into the Prince eyes. the Prince did not see the cinders in the Prince hair or the ashes on the Prince face.\\n\\n“I have found you!” the Prince said.\\n\\n“And I have found you,” said Cinderella.\\n\\nAnd so Cinderella and the Prince were married, and Cinderella and the Prince lived happily ever after.'"
            ]
          },
          "metadata": {
            "tags": []
          },
          "execution_count": 29
        }
      ]
    },
    {
      "cell_type": "code",
      "metadata": {
        "id": "PdqdOtWj6YoZ",
        "colab_type": "code",
        "colab": {
          "base_uri": "https://localhost:8080/",
          "height": 54
        },
        "outputId": "a9501355-a4d5-4fa3-cb28-f0191021c468"
      },
      "source": [
        "from transformers import *\n",
        "\n",
        "# Load model, model config and tokenizer via Transformers\n",
        "custom_config = AutoConfig.from_pretrained('allenai/scibert_scivocab_uncased')\n",
        "custom_config.output_hidden_states=True\n",
        "custom_tokenizer = AutoTokenizer.from_pretrained('allenai/scibert_scivocab_uncased')\n",
        "custom_model = AutoModel.from_pretrained('allenai/scibert_scivocab_uncased', config=custom_config)\n",
        "\n",
        "from summarizer import Summarizer\n",
        "\n",
        "model = Summarizer(custom_model=custom_model, custom_tokenizer=custom_tokenizer)\n",
        "model(body)"
      ],
      "execution_count": 30,
      "outputs": [
        {
          "output_type": "execute_result",
          "data": {
            "text/plain": [
              "'ONCE UPON A TIME Poor Cinderella lived with Poor Cinderella stepmother and two stepsisters. It was Poor Cinderella who cooked the meals. The King and Queen were going to have a ball! Maybe the Prince would like All of the young ladies in the land! And the stepmother and step-sisters were off. “Even if I had something nice to wear,” said her, “I would have no way to get there.” Tonight, at the stroke of midnight, it will all be over. “Then I must be sure to leave the ball before midnight!” Cinderella looked around the Fairy Godmother in a huff. “I know, the Fairy Godmother in a huff,” said the Prince. “I will ask the Fairy Godmother in a huff to dance.” “I feel as if I know you,” said the Prince. And then He and Cinderella danced again, and yet again. In fact, He and Cinderella danced for so long that Cinderella did not see the clock. Cinderella said as one glass slipper fell off Cinderella foot on the stair. “This is all I have left from Cinderella,” the Prince said, looking down at one glass slipper. At last the Prince came to Cinderella’s house. one step-sister tried to place one step-sister in one glass slipper. “Are there no other young women in Cinderella’s house?” the Prince got down on one knee and tried one glass slipper on her foot.'"
            ]
          },
          "metadata": {
            "tags": []
          },
          "execution_count": 30
        }
      ]
    },
    {
      "cell_type": "code",
      "metadata": {
        "id": "6tMqZLG56XZI",
        "colab_type": "code",
        "colab": {
          "base_uri": "https://localhost:8080/",
          "height": 201,
          "referenced_widgets": [
            "0ccc545f5eb44cbbb6c12cf42498ceac",
            "ed71515701534ffdb648ca3be5afa494",
            "0a53faf280434e0cbaf1e821b84fe05f",
            "7ff6b0966f3149ab98f2abdd177841aa",
            "4049b3a18887453399825a7fb46268ab",
            "7ca975db5c1f4b8d9b86f85ddb16b863",
            "335598ae6ba44fb8ac899900ab8628fe",
            "ed19aced6b744a099e260af8093c6775",
            "d1476aac49104efc80ab1131c1830ca8",
            "013de3022d2446919d59fca93b1ef8d8",
            "66e1d108cb364823ad7bf4fcce327b4c",
            "d94ec85a36b0410482d62ca22199c242",
            "4e254366d0d243a1a0c1539b83880206",
            "65259592ed994ef18f27691c2efc3433",
            "3be2fd5998124f918ee00dd65591663c",
            "3f36cfd601df40e59effab6a036fe8d3",
            "07bda1f390c24587a34d4dff2b710a94",
            "203b679b950f4a1d86870ab374de8e16",
            "7e9b66769b744d90a500c46fe515446b",
            "486a077e89b4423ea0831497baf378be",
            "6103697f260b4e2ebd07344779a6a5fc",
            "cbb52aae157340c2a80f81431f65fd36",
            "f0519373924141a1abaf663073a8569b",
            "72ddb1fd8b0f4795ae67d3660e5c1e08"
          ]
        },
        "outputId": "665a4ca9-b9c8-4fc0-c981-5c5f0baa9fd8"
      },
      "source": [
        "from transformers import *\n",
        "\n",
        "# Load model, model config and tokenizer via Transformers\n",
        "custom_config = AutoConfig.from_pretrained('allenai/scibert_scivocab_uncased')\n",
        "custom_config.output_hidden_states=True\n",
        "custom_tokenizer = AutoTokenizer.from_pretrained('allenai/scibert_scivocab_uncased')\n",
        "custom_model = AutoModel.from_pretrained('allenai/scibert_scivocab_uncased', config=custom_config)\n",
        "\n",
        "from summarizer import Summarizer\n",
        "\n",
        "model = Summarizer(custom_model=custom_model, custom_tokenizer=custom_tokenizer)\n",
        "model(body)"
      ],
      "execution_count": 22,
      "outputs": [
        {
          "output_type": "display_data",
          "data": {
            "application/vnd.jupyter.widget-view+json": {
              "model_id": "0ccc545f5eb44cbbb6c12cf42498ceac",
              "version_minor": 0,
              "version_major": 2
            },
            "text/plain": [
              "HBox(children=(IntProgress(value=0, description='Downloading', max=385, style=ProgressStyle(description_width=…"
            ]
          },
          "metadata": {
            "tags": []
          }
        },
        {
          "output_type": "stream",
          "text": [
            "\n"
          ],
          "name": "stdout"
        },
        {
          "output_type": "display_data",
          "data": {
            "application/vnd.jupyter.widget-view+json": {
              "model_id": "d1476aac49104efc80ab1131c1830ca8",
              "version_minor": 0,
              "version_major": 2
            },
            "text/plain": [
              "HBox(children=(IntProgress(value=0, description='Downloading', max=227845, style=ProgressStyle(description_wid…"
            ]
          },
          "metadata": {
            "tags": []
          }
        },
        {
          "output_type": "stream",
          "text": [
            "\n"
          ],
          "name": "stdout"
        },
        {
          "output_type": "display_data",
          "data": {
            "application/vnd.jupyter.widget-view+json": {
              "model_id": "07bda1f390c24587a34d4dff2b710a94",
              "version_minor": 0,
              "version_major": 2
            },
            "text/plain": [
              "HBox(children=(IntProgress(value=0, description='Downloading', max=442221694, style=ProgressStyle(description_…"
            ]
          },
          "metadata": {
            "tags": []
          }
        },
        {
          "output_type": "stream",
          "text": [
            "\n"
          ],
          "name": "stdout"
        },
        {
          "output_type": "execute_result",
          "data": {
            "text/plain": [
              "'The Chrysler Building, the famous art deco New York skyscraper, will be sold for a small fraction of its previous sales price. Mubadala, an Abu Dhabi investment fund, purchased 90% of the building for $800 million in 2008. Real estate firm Tishman Speyer had owned the other 10%. He kept secret the plans for the spire that would grace the top of the building, building it inside the structure and out of view of the public until 40 Wall Street was complete.'"
            ]
          },
          "metadata": {
            "tags": []
          },
          "execution_count": 22
        }
      ]
    },
    {
      "cell_type": "code",
      "metadata": {
        "id": "kASJBRP43JsD",
        "colab_type": "code",
        "colab": {
          "base_uri": "https://localhost:8080/",
          "height": 54
        },
        "outputId": "d25b9786-dd76-45e9-9a3e-885182522dad"
      },
      "source": [
        "from summarizer import Summarizer\n",
        "\n",
        "body = '''\n",
        "The Chrysler Building, the famous art deco New York skyscraper, will be sold for a small fraction of its previous sales price.\n",
        "The deal, first reported by The Real Deal, was for $150 million, according to a source familiar with the deal.\n",
        "Mubadala, an Abu Dhabi investment fund, purchased 90% of the building for $800 million in 2008.\n",
        "Real estate firm Tishman Speyer had owned the other 10%.\n",
        "The buyer is RFR Holding, a New York real estate company.\n",
        "Officials with Tishman and RFR did not immediately respond to a request for comments.\n",
        "It's unclear when the deal will close.\n",
        "The building sold fairly quickly after being publicly placed on the market only two months ago.\n",
        "The sale was handled by CBRE Group.\n",
        "The incentive to sell the building at such a huge loss was due to the soaring rent the owners pay to Cooper Union, a New York college, for the land under the building.\n",
        "The rent is rising from $7.75 million last year to $32.5 million this year to $41 million in 2028.\n",
        "Meantime, rents in the building itself are not rising nearly that fast.\n",
        "While the building is an iconic landmark in the New York skyline, it is competing against newer office towers with large floor-to-ceiling windows and all the modern amenities.\n",
        "Still the building is among the best known in the city, even to people who have never been to New York.\n",
        "It is famous for its triangle-shaped, vaulted windows worked into the stylized crown, along with its distinctive eagle gargoyles near the top.\n",
        "It has been featured prominently in many films, including Men in Black 3, Spider-Man, Armageddon, Two Weeks Notice and Independence Day.\n",
        "The previous sale took place just before the 2008 financial meltdown led to a plunge in real estate prices.\n",
        "Still there have been a number of high profile skyscrapers purchased for top dollar in recent years, including the Waldorf Astoria hotel, which Chinese firm Anbang Insurance purchased in 2016 for nearly $2 billion, and the Willis Tower in Chicago, which was formerly known as Sears Tower, once the world's tallest.\n",
        "Blackstone Group (BX) bought it for $1.3 billion 2015.\n",
        "The Chrysler Building was the headquarters of the American automaker until 1953, but it was named for and owned by Chrysler chief Walter Chrysler, not the company itself.\n",
        "Walter Chrysler had set out to build the tallest building in the world, a competition at that time with another Manhattan skyscraper under construction at 40 Wall Street at the south end of Manhattan. He kept secret the plans for the spire that would grace the top of the building, building it inside the structure and out of view of the public until 40 Wall Street was complete.\n",
        "Once the competitor could rise no higher, the spire of the Chrysler building was raised into view, giving it the title.\n",
        "'''\n",
        "\n",
        "model = Summarizer()\n",
        "result = model(body, min_length=60)\n",
        "full = ''.join(result)\n",
        "print(full)"
      ],
      "execution_count": 21,
      "outputs": [
        {
          "output_type": "stream",
          "text": [
            "The Chrysler Building, the famous art deco New York skyscraper, will be sold for a small fraction of its previous sales price. The deal, first reported by The Real Deal, was for $150 million, according to a source familiar with the deal. The building sold fairly quickly after being publicly placed on the market only two months ago. The incentive to sell the building at such a huge loss was due to the soaring rent the owners pay to Cooper Union, a New York college, for the land under the building.\n"
          ],
          "name": "stdout"
        }
      ]
    },
    {
      "cell_type": "code",
      "metadata": {
        "id": "XaV_Jx3g9Es8",
        "colab_type": "code",
        "colab": {
          "base_uri": "https://localhost:8080/",
          "height": 54
        },
        "outputId": "9f8e9e76-371d-40b2-facc-5f15e1e8600a"
      },
      "source": [
        "from summarizer import Summarizer\n",
        "model = Summarizer()\n",
        "result = model(body)\n",
        "full = ''.join(result)\n",
        "print(full)"
      ],
      "execution_count": 33,
      "outputs": [
        {
          "output_type": "stream",
          "text": [
            "ONCE UPON A TIME Poor Cinderella lived with Poor Cinderella stepmother and two stepsisters. It was Poor Cinderella who cooked the meals. The King and Queen were going to have a ball! Maybe the Prince would like All of the young ladies in the land! the stepmother and step-sisters hopped inside. her was dressed in a beautiful blue gown. At once, a beautiful carriage came to be, with a driver and four white horses. Cinderella looked around the Fairy Godmother in a huff. And there were the Fairy Godmother in a huff driver and four horses before the Fairy Godmother in a huff, waiting. the Fairy Godmother in a huff stepped into a beautiful carriage. “I will ask the Fairy Godmother in a huff to dance.” the Prince felt a leap in the Prince heart. “Why is the Prince dancing all the time with the Fairy Godmother in a huff?” Cinderella said as one glass slipper fell off Cinderella foot on the stair. Somewhere there is one glass slipper,” the Prince said. one step-sister tried to place one step-sister in one glass slipper. one step-sister tried hard, but it just would not fit. “Maybe there is one more,” said Cinderella, stepping into the room. the Prince got down on one knee and tried one glass slipper on her foot.\n"
          ],
          "name": "stdout"
        }
      ]
    },
    {
      "cell_type": "code",
      "metadata": {
        "id": "-gPF2ydlDmW_",
        "colab_type": "code",
        "colab": {
          "base_uri": "https://localhost:8080/",
          "height": 54
        },
        "outputId": "111ecf80-5b77-4a93-82b4-183c677edf79"
      },
      "source": [
        "from summarizer import Summarizer\n",
        "model = Summarizer()\n",
        "result = model(body,ratio=0.3)\n",
        "full = ''.join(result)\n",
        "print(full)"
      ],
      "execution_count": 32,
      "outputs": [
        {
          "output_type": "stream",
          "text": [
            "ONCE UPON A TIME Poor Cinderella lived with Poor Cinderella stepmother and two stepsisters. It was Poor Cinderella who kept the fire going. Poor Cinderella could not stay clean, from all the ashes and cinders by the fire. The King and Queen were going to have a ball! It was time for the Prince to find a bride. At Cinderella’s house, the Prince now had extra work to do. Soon the time came for the stepmother and step-sisters to leave for the big party. the stepmother and step-sisters to leave for the big party fine carriage came to the door. the stepmother and step-sisters hopped inside. All of a sudden, in front of her was a fairy. “Then let me be the one to say what is possible or not!” “Even if I had something nice to wear,” said her, “I would have no way to get there.” With that, her tapped her wand on Cinderella’s head. her was dressed in a beautiful blue gown. Tonight, at the stroke of midnight, it will all be over. Cinderella looked around the Fairy Godmother in a huff. the Fairy Godmother in a huff stepped into a beautiful carriage. the Fairy Godmother in a huff held the Fairy Godmother in a huff head tall and looked as if the Fairy Godmother in a huff belonged. “I will ask the Fairy Godmother in a huff to dance.” And the Prince walked over to Cinderella. the Prince felt a leap in the Prince heart. “Why is the Prince dancing all the time with the Fairy Godmother in a huff?” He and Cinderella laughed and talked, and He and Cinderella danced some more. Cinderella said as one glass slipper fell off Cinderella foot on the stair. Somewhere there is one glass slipper,” the Prince said. One young woman after another tried to fit One young woman after another foot inside one glass slipper. called one step-sister as one step-sister looked out the window. “Maybe there is one more,” said Cinderella, stepping into the room. the Prince got down on one knee and tried one glass slipper on her foot.\n"
          ],
          "name": "stdout"
        }
      ]
    },
    {
      "cell_type": "code",
      "metadata": {
        "id": "csi7HtcDETt2",
        "colab_type": "code",
        "colab": {}
      },
      "source": [
        ""
      ],
      "execution_count": 0,
      "outputs": []
    }
  ]
}